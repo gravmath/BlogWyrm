{
 "cells": [
  {
   "cell_type": "code",
   "execution_count": 1,
   "metadata": {
    "collapsed": true
   },
   "outputs": [],
   "source": [
    "import matplotlib as mpl\n",
    "mpl.use('agg')\n",
    "import matplotlib.pyplot as plt\n",
    "import numpy as np\n",
    "import scipy as sp\n",
    "import scipy.integrate as integrate"
   ]
  },
  {
   "cell_type": "code",
   "execution_count": 2,
   "metadata": {
    "collapsed": true
   },
   "outputs": [],
   "source": [
    "%matplotlib inline"
   ]
  },
  {
   "cell_type": "markdown",
   "metadata": {},
   "source": [
    "The conserved quantity is referenced from:\n",
    "\n",
    "http://pages.physics.cornell.edu/~sethna/teaching/sss/jupiter/Web/Rest3Bdy.htm"
   ]
  },
  {
   "cell_type": "code",
   "execution_count": 3,
   "metadata": {
    "collapsed": true
   },
   "outputs": [],
   "source": [
    "def primary_mass(t):\n",
    "    pos1 = np.array([np.cos(t),np.sin(t)])\n",
    "    pos2 = np.array([-np.cos(t),-np.sin(t)])\n",
    "    return pos1, pos2"
   ]
  },
  {
   "cell_type": "code",
   "execution_count": 4,
   "metadata": {
    "collapsed": true
   },
   "outputs": [],
   "source": [
    "def PCR3PB(state,time):\n",
    "    m1         = 0.5\n",
    "    m2         = 0.5\n",
    "    pos        = np.array([state[0],state[1]])\n",
    "    vel        = np.array([state[2],state[3]])\n",
    "    pos1, pos2 = primary_mass(time)\n",
    "    r1         = pos1-pos\n",
    "    r2         = pos2-pos\n",
    "    r1_mag     = np.sqrt(r1.dot(r1))\n",
    "    r2_mag     = np.sqrt(r2.dot(r2))\n",
    "    force      = m1*r1/r1_mag**3 + m2*r2/r2_mag**3\n",
    "    dstate     = np.hstack((vel,force))\n",
    "    return dstate"
   ]
  },
  {
   "cell_type": "code",
   "execution_count": 5,
   "metadata": {
    "collapsed": true
   },
   "outputs": [],
   "source": [
    "def energy_and_Jacobi(state,time):\n",
    "    m1         = 0.5\n",
    "    m2         = 0.5\n",
    "    pos        = np.array([state[0],state[1]])\n",
    "    vel        = np.array([state[2],state[3]])\n",
    "    pos1, pos2 = primary_mass(time)\n",
    "    r1         = pos1-pos\n",
    "    r2         = pos2-pos\n",
    "    r1_mag     = np.sqrt(r1.dot(r1))\n",
    "    r2_mag     = np.sqrt(r2.dot(r2))\n",
    "    U          = -m1/r1_mag - m2/r2_mag\n",
    "    K          = 0.5*vel.dot(vel)\n",
    "    U_rot      = 0.5*pos.dot(pos) - U \n",
    "    J          = K + U + (vel[0]*pos[1]- vel[1]*pos[0])\n",
    "    return np.array([K+U,J])"
   ]
  },
  {
   "cell_type": "code",
   "execution_count": 6,
   "metadata": {
    "collapsed": true
   },
   "outputs": [],
   "source": [
    "time = np.arange(0,200,0.01)"
   ]
  },
  {
   "cell_type": "code",
   "execution_count": 7,
   "metadata": {
    "collapsed": false
   },
   "outputs": [],
   "source": [
    "s0   = np.array([0,0.1,0,0.1])"
   ]
  },
  {
   "cell_type": "code",
   "execution_count": 8,
   "metadata": {
    "collapsed": false
   },
   "outputs": [],
   "source": [
    "eph  = integrate.odeint(PCR3PB,s0,time)"
   ]
  },
  {
   "cell_type": "code",
   "execution_count": 9,
   "metadata": {
    "collapsed": false
   },
   "outputs": [
    {
     "data": {
      "text/plain": [
       "[<matplotlib.lines.Line2D at 0x6c6a430>]"
      ]
     },
     "execution_count": 9,
     "metadata": {},
     "output_type": "execute_result"
    },
    {
     "data": {
      "image/png": "[encoded data removed]",
      "text/plain": [
       "<matplotlib.figure.Figure at 0x6b68450>"
      ]
     },
     "metadata": {},
     "output_type": "display_data"
    }
   ],
   "source": [
    "plt.plot(eph[:,0],eph[:,1])"
   ]
  },
  {
   "cell_type": "code",
   "execution_count": 10,
   "metadata": {
    "collapsed": false
   },
   "outputs": [],
   "source": [
    "E_and_J = np.zeros((len(eph),2))\n",
    "for i in range(len(eph)):\n",
    "    E_and_J[i,:]   = energy_and_Jacobi(eph[i,:],time[i])"
   ]
  },
  {
   "cell_type": "code",
   "execution_count": 11,
   "metadata": {
    "collapsed": false
   },
   "outputs": [
    {
     "data": {
      "text/plain": [
       "[<matplotlib.lines.Line2D at 0x6d62d30>]"
      ]
     },
     "execution_count": 11,
     "metadata": {},
     "output_type": "execute_result"
    },
    {
     "data": {
      "image/png": "[encoded data removed]",
      "text/plain": [
       "<matplotlib.figure.Figure at 0x6b68390>"
      ]
     },
     "metadata": {},
     "output_type": "display_data"
    }
   ],
   "source": [
    "plt.plot(time,E_and_J[:,0])"
   ]
  },
  {
   "cell_type": "code",
   "execution_count": 12,
   "metadata": {
    "collapsed": false
   },
   "outputs": [
    {
     "data": {
      "text/plain": [
       "(-0.995, -0.985)"
      ]
     },
     "execution_count": 12,
     "metadata": {},
     "output_type": "execute_result"
    },
    {
     "data": {
      "image/png": "[encoded data removed]",
      "text/plain": [
       "<matplotlib.figure.Figure at 0x6d7bb10>"
      ]
     },
     "metadata": {},
     "output_type": "display_data"
    }
   ],
   "source": [
    "plt.plot(time,E_and_J[:,1])\n",
    "plt.ylim([-0.995,-0.985])"
   ]
  },
  {
   "cell_type": "code",
   "execution_count": 14,
   "metadata": {
    "collapsed": false
   },
   "outputs": [
    {
     "name": "stdout",
     "output_type": "stream",
     "text": [
      "-0.990038082375 -0.990036880151 -0.990037351825\n"
     ]
    }
   ],
   "source": [
    "print np.min(E_and_J[:,1]), np.max(E_and_J[:,1]), np.mean(E_and_J[:,1])"
   ]
  }
 ],
 "metadata": {
  "anaconda-cloud": {},
  "kernelspec": {
   "display_name": "Python [conda root]",
   "language": "python",
   "name": "conda-root-py"
  },
  "language_info": {
   "codemirror_mode": {
    "name": "ipython",
    "version": 2
   },
   "file_extension": ".py",
   "mimetype": "text/x-python",
   "name": "python",
   "nbconvert_exporter": "python",
   "pygments_lexer": "ipython2",
   "version": "2.7.12"
  }
 },
 "nbformat": 4,
 "nbformat_minor": 1
}
