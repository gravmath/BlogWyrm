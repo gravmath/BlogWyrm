{
 "cells": [
  {
   "cell_type": "code",
   "execution_count": 19,
   "metadata": {},
   "outputs": [],
   "source": [
    "def Temperature(t,r,theta):\n",
    "    import numpy as np\n",
    "    \n",
    "    #define the time profile\n",
    "    tau = 10.0\n",
    "    Tt  = np.exp(-t**2/tau**2)\n",
    "    \n",
    "    #define the radial profile\n",
    "    r0 = 2.0\n",
    "    Tr = np.exp(-r/r0)\n",
    "    \n",
    "    #define the angular profile\n",
    "    T0  = 2.0\n",
    "    dT  = 0.1\n",
    "    Tth = T0*(1+dT*np.cos(theta))\n",
    "    \n",
    "    return Tt*Tr*Tth"
   ]
  },
  {
   "cell_type": "code",
   "execution_count": 20,
   "metadata": {},
   "outputs": [],
   "source": [
    "def grad_Temperature(t,r,theta):\n",
    "    import numpy as np\n",
    "    \n",
    "    #define the time profile\n",
    "    tau = 10.0\n",
    "    Tt  = np.exp(-t**2/tau**2)\n",
    "    \n",
    "    #define the radial profile\n",
    "    r0     = 2.0\n",
    "    Tr     = np.exp(-r/r0)\n",
    "   \n",
    "    #define the angular profile\n",
    "    T0     = 2.0\n",
    "    dT     = 0.1\n",
    "    Tth    = T0*(1.0 + dT*np.cos(theta))\n",
    "    \n",
    "    #calculate the derivative of the radial profile and\n",
    "    #the radial derivative of the temperature\n",
    "    Tr_r   = -Tr/r0\n",
    "    T_r    = Tr_r*Tth*Tt\n",
    "    \n",
    "    #calculate the derivative of the angular profile and\n",
    "    #the angular derivative of the temperature\n",
    "    Tth_th = -T0*dT*np.sin(theta)\n",
    "    T_th   = Tr*Tth_th/r*Tt\n",
    "    \n",
    "    return T_r, T_th"
   ]
  },
  {
   "cell_type": "code",
   "execution_count": 21,
   "metadata": {},
   "outputs": [],
   "source": [
    "def ddt_Temperature(t,r,theta):\n",
    "    import numpy as np\n",
    "    \n",
    "    #define the time profile\n",
    "    tau   = 10.0\n",
    "    Tt_t  = -2*t/tau**2*np.exp(-t**2/tau**2)\n",
    "    \n",
    "    #define the radial profile\n",
    "    r0 = 2.0\n",
    "    Tr = np.exp(-r/r0)\n",
    "    \n",
    "    #define the angular profile\n",
    "    T0  = 2.0\n",
    "    dT  = 0.1\n",
    "    Tth = T0*(1+dT*np.cos(theta))\n",
    "    \n",
    "    return Tt_t*Tr*Tth   "
   ]
  },
  {
   "cell_type": "code",
   "execution_count": 22,
   "metadata": {},
   "outputs": [],
   "source": [
    "def PolarVel(state):\n",
    "    #unpack the state\n",
    "    x      = state[0]\n",
    "    y      = state[1]\n",
    "    vx     = state[2]\n",
    "    vy     = state[3]\n",
    "    \n",
    "    #define the r unit vector\n",
    "    v_cart = np.array([vx,vy])\n",
    "    r_vec  = np.array([x,y])\n",
    "    r_vec  = r_vec/np.sqrt(r_vec.dot(r_vec))\n",
    "    \n",
    "    #define the theta unit vector\n",
    "    th_vec = np.array([-y,x])\n",
    "    th_vec = th_vec/np.sqrt(th_vec.dot(th_vec))\n",
    "    \n",
    "    #project to get the polar components\n",
    "    vr     = v_cart.dot(r_vec)\n",
    "    vth    = v_cart.dot(th_vec)\n",
    "    \n",
    "    return vr, vth"
   ]
  },
  {
   "cell_type": "code",
   "execution_count": 23,
   "metadata": {},
   "outputs": [],
   "source": [
    "import numpy as np\n",
    "import matplotlib.pyplot as plt"
   ]
  },
  {
   "cell_type": "code",
   "execution_count": 33,
   "metadata": {},
   "outputs": [],
   "source": [
    "#evaluate the temperature field at a given resolution\n",
    "nr  = 40\n",
    "nth = 40 \n",
    "r, theta = np.mgrid[0:2:nr*1j,0:2*np.pi:nth*1j]\n",
    "T_field = Temperature(0,r,theta)"
   ]
  },
  {
   "cell_type": "code",
   "execution_count": 34,
   "metadata": {},
   "outputs": [],
   "source": [
    "#define the ephemeris of the particle\n",
    "time   = np.linspace(0,10,100)\n",
    "R      =  0.7\n",
    "a      =  0.13\n",
    "w      =  2.0*np.pi/10.0\n",
    "x_t    =  (R+a*time)*np.cos(w*time)\n",
    "y_t    =  (R+a*time)*np.sin(w*time)\n",
    "vx_t   =  a*np.cos(w*time) - (R+a*time)*w*np.sin(w*time) \n",
    "vy_t   =  a*np.sin(w*time) + (R+a*time)*w*np.cos(w*time) "
   ]
  },
  {
   "cell_type": "code",
   "execution_count": 35,
   "metadata": {},
   "outputs": [],
   "source": [
    "#make the element's local measurement of temperature\n",
    "r_t       = []\n",
    "th_t      = []\n",
    "Temp_meas = []\n",
    "for instant, XX, YY in zip(time,x_t,y_t):\n",
    "    RR = np.sqrt(XX**2 + YY**2)\n",
    "    TH = np.arctan2(YY,XX)\n",
    "    #pack the arrays\n",
    "    r_t.append(RR)\n",
    "    th_t.append(TH)\n",
    "    Temp_meas.append(Temperature(instant,RR,TH))    \n",
    "    \n",
    "r_t       = np.array(r_t)\n",
    "th_t      = np.array(th_t)\n",
    "Temp_meas = np.array(Temp_meas)\n",
    "    \n",
    "#calculate the time derivative of Temperature\n",
    "dTemp_meas = np.zeros(r_t.shape)\n",
    "for i in range(1,len(r_t)-1):\n",
    "    dTemp_meas[i] = (Temp_meas[i+1] - Temp_meas[i-1])/(time[i+1] - time[i-1])\n",
    "dTemp_meas[0]  = np.NaN\n",
    "dTemp_meas[-1] = np.NaN"
   ]
  },
  {
   "cell_type": "code",
   "execution_count": 36,
   "metadata": {},
   "outputs": [],
   "source": [
    "#now try the material derivative\n",
    "\n",
    "#first convert the velocity of the particle to polar\n",
    "vr_t  = []\n",
    "vth_t = [] \n",
    "for state in zip(x_t,y_t,vx_t,vy_t):\n",
    "    vr, vth = PolarVel(state)\n",
    "    vr_t.append(vr)\n",
    "    vth_t.append(vth)\n",
    "vr_t  = np.array(vr_t)\n",
    "vth_t = np.array(vth_t) \n",
    "    \n",
    "#second calculate the derivative of the temperature field at \n",
    "#the particle's position\n",
    "d_Tempr  = []\n",
    "d_Tempth = []\n",
    "d_Tempt  = []\n",
    "for instant,r_temp,th_temp in zip(time,r_t,th_t):\n",
    "    T_r, T_th = grad_Temperature(instant,r_temp,th_temp)\n",
    "    T_t       = ddt_Temperature(instant,r_temp,th_temp)\n",
    "    d_Tempr.append(T_r)\n",
    "    d_Tempth.append(T_th)\n",
    "    d_Tempt.append(T_t)\n",
    "d_Tempr  = np.array(d_Tempr)\n",
    "d_Tempth = np.array(d_Tempth)\n",
    "d_Tempt  = np.array(d_Tempt)\n",
    "    \n",
    "#finally calculate the total derivative\n",
    "direction_deriv_T = d_Tempr*vr_t + d_Tempth*vth_t\n",
    "\n",
    "#material derivative\n",
    "material_deriv_T = direction_deriv_T + d_Tempt"
   ]
  },
  {
   "cell_type": "code",
   "execution_count": 39,
   "metadata": {},
   "outputs": [
    {
     "data": {
      "image/png": "[encoded data removed]",
      "text/plain": [
       "<Figure size 720x720 with 2 Axes>"
      ]
     },
     "metadata": {},
     "output_type": "display_data"
    }
   ],
   "source": [
    "fig = plt.figure(figsize=(10,10))\n",
    "\n",
    "ax2  = fig.add_subplot(2,1,1)\n",
    "ax2.plot(time[::5],Temp_meas[::5],'k-')\n",
    "ax2.set_xlabel('Time')\n",
    "ax2.set_ylabel('Measured \\nTemperature')\n",
    "ax2.grid('on')\n",
    "\n",
    "ax4 = fig.add_subplot(2,1,2)\n",
    "ax4.plot(time,dTemp_meas,label='Eulerian')\n",
    "ax4.plot(time[::5],material_deriv_T[::5],'k.',label='Lagrangian')\n",
    "ax4.set_xlabel('Time')\n",
    "ax4.set_ylabel('Rate of Change\\n of Measured Temperature')\n",
    "ax4.set_ylim([-0.25,0.2])\n",
    "ax4.grid(True)\n",
    "ax4.legend()\n",
    "\n",
    "plt.subplots_adjust(wspace=0.3)\n",
    "#fig.savefig('c:/Users/Conrad/Documents/GitHub/BlogWyrm/Pictures/Blog Wyrm - Under The Hood/Material_Derivative_Scenario3_Temperature_plot.png',dpi=200)"
   ]
  },
  {
   "cell_type": "code",
   "execution_count": 17,
   "metadata": {},
   "outputs": [
    {
     "data": {
      "text/plain": [
       "1.713361722757091"
      ]
     },
     "execution_count": 17,
     "metadata": {},
     "output_type": "execute_result"
    }
   ],
   "source": [
    "fig_prod1 = plt.figure(figsize=(8,6))\n",
    "ax1_prod1 = fig_prod1.add_subplot(1,1,1,projection='polar')\n",
    "pcmesh_data = ax1_prod1.pcolormesh(theta,r,T_field,cmap=cmap.jet)\n",
    "ax1_prod1.plot(th_t,r_t,'k-',linewidth=2.0)\n",
    "ax1_prod1.set_yticks([])\n",
    "cbax = fig_prod1.colorbar(pcmesh_data)\n",
    "ax1_prod1.set_title('Circular Orbit Around a Static \\'Hot\\' Earth\\n')\n",
    "#fig_prod1.savefig('c:/users/Conrad/Documents/GitHub/BlogWyrm/Pictures/Blog Wyrm - Under The Hood/Material_Derivative_Scenario2_polarplot.png',dpi=200)"
   ]
  },
  {
   "cell_type": "code",
   "execution_count": 18,
   "metadata": {},
   "outputs": [
    {
     "data": {
      "text/plain": [
       "1.7131903951513383"
      ]
     },
     "execution_count": 18,
     "metadata": {},
     "output_type": "execute_result"
    }
   ],
   "source": [
    "Temperature(1,0.5,0)"
   ]
  },
  {
   "cell_type": "code",
   "execution_count": null,
   "metadata": {},
   "outputs": [],
   "source": []
  }
 ],
 "metadata": {
  "kernelspec": {
   "display_name": "Python [default]",
   "language": "python",
   "name": "python2"
  },
  "language_info": {
   "codemirror_mode": {
    "name": "ipython",
    "version": 2
   },
   "file_extension": ".py",
   "mimetype": "text/x-python",
   "name": "python",
   "nbconvert_exporter": "python",
   "pygments_lexer": "ipython2",
   "version": "2.7.14"
  }
 },
 "nbformat": 4,
 "nbformat_minor": 2
}
