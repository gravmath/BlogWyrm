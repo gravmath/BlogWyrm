{
 "cells": [
  {
   "cell_type": "code",
   "execution_count": 1,
   "metadata": {
    "collapsed": true
   },
   "outputs": [],
   "source": [
    "import matplotlib as mpl\n",
    "mpl.use('agg')\n",
    "import matplotlib.pyplot as plt\n",
    "import numpy as np\n",
    "import scipy as sp\n",
    "import scipy.integrate as integrate"
   ]
  },
  {
   "cell_type": "code",
   "execution_count": 2,
   "metadata": {
    "collapsed": true
   },
   "outputs": [],
   "source": [
    "%matplotlib inline"
   ]
  },
  {
   "cell_type": "code",
   "execution_count": 3,
   "metadata": {
    "collapsed": true
   },
   "outputs": [],
   "source": [
    "def planar_SHO_cart(state,t,m,k):\n",
    "    x      = state[0]\n",
    "    vx     = state[1]\n",
    "    y      = state[2]\n",
    "    vy     = state[3]\n",
    "    w0_sqr = k/m\n",
    "    return np.array([vx,-w0_sqr*x,vy,-w0_sqr*y])    "
   ]
  },
  {
   "cell_type": "code",
   "execution_count": 4,
   "metadata": {
    "collapsed": true
   },
   "outputs": [],
   "source": [
    "def planar_SHO_polar(state,t,m,k):\n",
    "    r         = state[0]\n",
    "    r_dot     = state[1]\n",
    "    theta     = state[2]\n",
    "    theta_dot = state[3]\n",
    "    w0_sqr    = k/m\n",
    "    return np.array([r_dot,-w0_sqr*r+r*theta_dot**2,theta_dot,-2*r_dot*theta_dot/r])"
   ]
  },
  {
   "cell_type": "code",
   "execution_count": 5,
   "metadata": {
    "collapsed": true
   },
   "outputs": [],
   "source": [
    "def E_and_L_cart(eph,m,k):\n",
    "    num_points = len(eph)\n",
    "    conserved  = np.zeros((num_points,2))\n",
    "    \n",
    "    index = 0\n",
    "    for record in eph:\n",
    "        x  = record[0]\n",
    "        vx = record[1]\n",
    "        y  = record[2]\n",
    "        vy = record[3]\n",
    "        T  = 0.5*m*(vx**2 + vy**2)\n",
    "        V  = 0.5*k*(x**2 + y**2)\n",
    "        \n",
    "        conserved[index,0] = T + V\n",
    "        conserved[index,1] = (x*vy-y*vx)\n",
    "        index              = index + 1\n",
    "        \n",
    "    return conserved    "
   ]
  },
  {
   "cell_type": "code",
   "execution_count": 6,
   "metadata": {
    "collapsed": false
   },
   "outputs": [],
   "source": [
    "def E_and_L_polar(eph,m,k):\n",
    "    num_points = len(eph)\n",
    "    conserved  = np.zeros((num_points,2))\n",
    "    \n",
    "    index = 0\n",
    "    for record in eph:\n",
    "        r                  = record[0]\n",
    "        r_dot              = record[1]\n",
    "        theta              = record[2]\n",
    "        theta_dot          = record[3]\n",
    "        T                  = 0.5*m*(r_dot**2 + r**2*theta_dot**2)\n",
    "        V                  = 0.5*k*r**2\n",
    "        conserved[index,0] = T + V\n",
    "        conserved[index,1] = m*r**2*theta_dot\n",
    "        index              = index + 1\n",
    "        \n",
    "    return conserved"
   ]
  },
  {
   "cell_type": "code",
   "execution_count": 7,
   "metadata": {
    "collapsed": true
   },
   "outputs": [],
   "source": [
    "m     = 1.0\n",
    "k     = 2.0\n",
    "parms = {'k':k,'m':m}"
   ]
  },
  {
   "cell_type": "code",
   "execution_count": 8,
   "metadata": {
    "collapsed": true
   },
   "outputs": [],
   "source": [
    "R        = 1.0\n",
    "Omega    = 2.0\n",
    "S0_cart  = np.array([R,0.0,0.0,R*Omega])\n",
    "S0_polar = np.array([R,0.0,0.0,Omega])"
   ]
  },
  {
   "cell_type": "code",
   "execution_count": 9,
   "metadata": {
    "collapsed": true
   },
   "outputs": [],
   "source": [
    "time_span = np.arange(0.0,10.0,0.1)"
   ]
  },
  {
   "cell_type": "code",
   "execution_count": 10,
   "metadata": {
    "collapsed": false
   },
   "outputs": [],
   "source": [
    "eph_cart  = integrate.odeint(planar_SHO_cart, S0_cart, time_span,args=(m,k))\n",
    "eph_polar = integrate.odeint(planar_SHO_polar,S0_polar,time_span,args=(m,k))"
   ]
  },
  {
   "cell_type": "code",
   "execution_count": 11,
   "metadata": {
    "collapsed": false
   },
   "outputs": [],
   "source": [
    "conserved_cart  = E_and_L_cart(eph_cart, m,k)\n",
    "conserved_polar = E_and_L_polar(eph_polar,m,k)"
   ]
  },
  {
   "cell_type": "code",
   "execution_count": 12,
   "metadata": {
    "collapsed": false
   },
   "outputs": [
    {
     "data": {
      "text/plain": [
       "[<matplotlib.lines.Line2D at 0x7979cf0>,\n",
       " <matplotlib.lines.Line2D at 0x7979e30>]"
      ]
     },
     "execution_count": 12,
     "metadata": {},
     "output_type": "execute_result"
    },
    {
     "data": {
      "image/png": "[encoded data removed]",
      "text/plain": [
       "<matplotlib.figure.Figure at 0x78e5c30>"
      ]
     },
     "metadata": {},
     "output_type": "display_data"
    }
   ],
   "source": [
    "plt.plot(time_span,conserved_cart)"
   ]
  },
  {
   "cell_type": "code",
   "execution_count": 13,
   "metadata": {
    "collapsed": false
   },
   "outputs": [
    {
     "data": {
      "text/plain": [
       "[<matplotlib.lines.Line2D at 0x7b12c10>,\n",
       " <matplotlib.lines.Line2D at 0x7b12d30>]"
      ]
     },
     "execution_count": 13,
     "metadata": {},
     "output_type": "execute_result"
    },
    {
     "data": {
      "image/png": "[encoded data removed]",
      "text/plain": [
       "<matplotlib.figure.Figure at 0x79e4790>"
      ]
     },
     "metadata": {},
     "output_type": "display_data"
    }
   ],
   "source": [
    "plt.plot(time_span,conserved_polar)"
   ]
  }
 ],
 "metadata": {
  "anaconda-cloud": {},
  "kernelspec": {
   "display_name": "Python [conda root]",
   "language": "python",
   "name": "conda-root-py"
  },
  "language_info": {
   "codemirror_mode": {
    "name": "ipython",
    "version": 2
   },
   "file_extension": ".py",
   "mimetype": "text/x-python",
   "name": "python",
   "nbconvert_exporter": "python",
   "pygments_lexer": "ipython2",
   "version": "2.7.12"
  }
 },
 "nbformat": 4,
 "nbformat_minor": 1
}
