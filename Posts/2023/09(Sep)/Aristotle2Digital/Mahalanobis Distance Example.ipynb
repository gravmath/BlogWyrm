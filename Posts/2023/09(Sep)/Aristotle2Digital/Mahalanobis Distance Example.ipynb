{
 "cells": [
  {
   "cell_type": "code",
   "execution_count": 2,
   "id": "a6186fe9",
   "metadata": {},
   "outputs": [],
   "source": [
    "import matplotlib.pyplot as plt\n",
    "import numpy             as np\n",
    "import pandas            as pd"
   ]
  },
  {
   "cell_type": "code",
   "execution_count": 3,
   "id": "970ea1cc",
   "metadata": {},
   "outputs": [],
   "source": [
    "df = pd.read_csv('./Documents/diamonds.csv')"
   ]
  },
  {
   "cell_type": "code",
   "execution_count": 28,
   "id": "498d680b",
   "metadata": {},
   "outputs": [
    {
     "name": "stdout",
     "output_type": "stream",
     "text": [
      "Available clarities are:   {'I1', 'VVS1', 'VS2', 'VS1', 'SI1', 'VVS2', 'IF', 'SI2'}\n",
      "Available colors are:      {'H', 'D', 'I', 'G', 'J', 'F', 'E'}\n",
      "Available cuts are:        {'Fair', 'Good', 'Very Good', 'Premium', 'Ideal'}\n"
     ]
    }
   ],
   "source": [
    "clarity = set(df['clarity'])\n",
    "print('Available clarities are:  ',clarity)\n",
    "color = set(df['color'])\n",
    "print('Available colors are:     ',color)\n",
    "cut = set(df['cut'])\n",
    "print('Available cuts are:       ',cut)"
   ]
  },
  {
   "cell_type": "code",
   "execution_count": 42,
   "id": "8fd6aa76",
   "metadata": {},
   "outputs": [
    {
     "data": {
      "text/html": [
       "<div>\n",
       "<style scoped>\n",
       "    .dataframe tbody tr th:only-of-type {\n",
       "        vertical-align: middle;\n",
       "    }\n",
       "\n",
       "    .dataframe tbody tr th {\n",
       "        vertical-align: top;\n",
       "    }\n",
       "\n",
       "    .dataframe thead th {\n",
       "        text-align: right;\n",
       "    }\n",
       "</style>\n",
       "<table border=\"1\" class=\"dataframe\">\n",
       "  <thead>\n",
       "    <tr style=\"text-align: right;\">\n",
       "      <th></th>\n",
       "      <th>carat</th>\n",
       "      <th>cut</th>\n",
       "      <th>color</th>\n",
       "      <th>clarity</th>\n",
       "      <th>depth</th>\n",
       "      <th>table</th>\n",
       "      <th>price</th>\n",
       "      <th>x</th>\n",
       "      <th>y</th>\n",
       "      <th>z</th>\n",
       "    </tr>\n",
       "  </thead>\n",
       "  <tbody>\n",
       "    <tr>\n",
       "      <th>938</th>\n",
       "      <td>0.80</td>\n",
       "      <td>Fair</td>\n",
       "      <td>E</td>\n",
       "      <td>SI1</td>\n",
       "      <td>56.3</td>\n",
       "      <td>63.0</td>\n",
       "      <td>2885</td>\n",
       "      <td>6.22</td>\n",
       "      <td>6.14</td>\n",
       "      <td>3.48</td>\n",
       "    </tr>\n",
       "    <tr>\n",
       "      <th>3148</th>\n",
       "      <td>0.90</td>\n",
       "      <td>Fair</td>\n",
       "      <td>E</td>\n",
       "      <td>SI1</td>\n",
       "      <td>65.0</td>\n",
       "      <td>61.0</td>\n",
       "      <td>3332</td>\n",
       "      <td>6.05</td>\n",
       "      <td>6.02</td>\n",
       "      <td>3.92</td>\n",
       "    </tr>\n",
       "    <tr>\n",
       "      <th>3528</th>\n",
       "      <td>0.92</td>\n",
       "      <td>Fair</td>\n",
       "      <td>E</td>\n",
       "      <td>SI1</td>\n",
       "      <td>65.6</td>\n",
       "      <td>57.0</td>\n",
       "      <td>3407</td>\n",
       "      <td>6.10</td>\n",
       "      <td>6.07</td>\n",
       "      <td>3.99</td>\n",
       "    </tr>\n",
       "    <tr>\n",
       "      <th>3970</th>\n",
       "      <td>0.90</td>\n",
       "      <td>Fair</td>\n",
       "      <td>E</td>\n",
       "      <td>SI1</td>\n",
       "      <td>65.5</td>\n",
       "      <td>59.0</td>\n",
       "      <td>3508</td>\n",
       "      <td>6.06</td>\n",
       "      <td>6.03</td>\n",
       "      <td>3.96</td>\n",
       "    </tr>\n",
       "    <tr>\n",
       "      <th>4788</th>\n",
       "      <td>1.00</td>\n",
       "      <td>Fair</td>\n",
       "      <td>E</td>\n",
       "      <td>SI1</td>\n",
       "      <td>66.5</td>\n",
       "      <td>55.0</td>\n",
       "      <td>3696</td>\n",
       "      <td>6.21</td>\n",
       "      <td>6.19</td>\n",
       "      <td>4.12</td>\n",
       "    </tr>\n",
       "    <tr>\n",
       "      <th>...</th>\n",
       "      <td>...</td>\n",
       "      <td>...</td>\n",
       "      <td>...</td>\n",
       "      <td>...</td>\n",
       "      <td>...</td>\n",
       "      <td>...</td>\n",
       "      <td>...</td>\n",
       "      <td>...</td>\n",
       "      <td>...</td>\n",
       "      <td>...</td>\n",
       "    </tr>\n",
       "    <tr>\n",
       "      <th>50897</th>\n",
       "      <td>0.73</td>\n",
       "      <td>Fair</td>\n",
       "      <td>E</td>\n",
       "      <td>SI1</td>\n",
       "      <td>64.6</td>\n",
       "      <td>59.0</td>\n",
       "      <td>2317</td>\n",
       "      <td>5.69</td>\n",
       "      <td>5.64</td>\n",
       "      <td>3.66</td>\n",
       "    </tr>\n",
       "    <tr>\n",
       "      <th>50908</th>\n",
       "      <td>0.70</td>\n",
       "      <td>Fair</td>\n",
       "      <td>E</td>\n",
       "      <td>SI1</td>\n",
       "      <td>65.2</td>\n",
       "      <td>58.0</td>\n",
       "      <td>2318</td>\n",
       "      <td>5.57</td>\n",
       "      <td>5.54</td>\n",
       "      <td>3.62</td>\n",
       "    </tr>\n",
       "    <tr>\n",
       "      <th>51222</th>\n",
       "      <td>0.71</td>\n",
       "      <td>Fair</td>\n",
       "      <td>E</td>\n",
       "      <td>SI1</td>\n",
       "      <td>64.7</td>\n",
       "      <td>59.0</td>\n",
       "      <td>2352</td>\n",
       "      <td>5.61</td>\n",
       "      <td>5.58</td>\n",
       "      <td>3.62</td>\n",
       "    </tr>\n",
       "    <tr>\n",
       "      <th>52344</th>\n",
       "      <td>0.72</td>\n",
       "      <td>Fair</td>\n",
       "      <td>E</td>\n",
       "      <td>SI1</td>\n",
       "      <td>56.9</td>\n",
       "      <td>61.0</td>\n",
       "      <td>2498</td>\n",
       "      <td>5.91</td>\n",
       "      <td>5.97</td>\n",
       "      <td>3.38</td>\n",
       "    </tr>\n",
       "    <tr>\n",
       "      <th>53578</th>\n",
       "      <td>0.70</td>\n",
       "      <td>Fair</td>\n",
       "      <td>E</td>\n",
       "      <td>SI1</td>\n",
       "      <td>64.4</td>\n",
       "      <td>53.0</td>\n",
       "      <td>2697</td>\n",
       "      <td>5.61</td>\n",
       "      <td>5.57</td>\n",
       "      <td>3.60</td>\n",
       "    </tr>\n",
       "  </tbody>\n",
       "</table>\n",
       "<p>65 rows × 10 columns</p>\n",
       "</div>"
      ],
      "text/plain": [
       "       carat   cut color clarity  depth  table  price     x     y     z\n",
       "938     0.80  Fair     E     SI1   56.3   63.0   2885  6.22  6.14  3.48\n",
       "3148    0.90  Fair     E     SI1   65.0   61.0   3332  6.05  6.02  3.92\n",
       "3528    0.92  Fair     E     SI1   65.6   57.0   3407  6.10  6.07  3.99\n",
       "3970    0.90  Fair     E     SI1   65.5   59.0   3508  6.06  6.03  3.96\n",
       "4788    1.00  Fair     E     SI1   66.5   55.0   3696  6.21  6.19  4.12\n",
       "...      ...   ...   ...     ...    ...    ...    ...   ...   ...   ...\n",
       "50897   0.73  Fair     E     SI1   64.6   59.0   2317  5.69  5.64  3.66\n",
       "50908   0.70  Fair     E     SI1   65.2   58.0   2318  5.57  5.54  3.62\n",
       "51222   0.71  Fair     E     SI1   64.7   59.0   2352  5.61  5.58  3.62\n",
       "52344   0.72  Fair     E     SI1   56.9   61.0   2498  5.91  5.97  3.38\n",
       "53578   0.70  Fair     E     SI1   64.4   53.0   2697  5.61  5.57  3.60\n",
       "\n",
       "[65 rows x 10 columns]"
      ]
     },
     "execution_count": 42,
     "metadata": {},
     "output_type": "execute_result"
    }
   ],
   "source": [
    "IS2E = df.query('clarity == \"SI1\" and color == \"E\" and cut == \"Fair\"')\n",
    "IS2E"
   ]
  },
  {
   "cell_type": "code",
   "execution_count": 43,
   "id": "cfa9013f",
   "metadata": {},
   "outputs": [
    {
     "data": {
      "text/plain": [
       "[<matplotlib.lines.Line2D at 0x1be1e84cf40>]"
      ]
     },
     "execution_count": 43,
     "metadata": {},
     "output_type": "execute_result"
    },
    {
     "data": {
      "image/png": "[encoded data removed]",
      "text/plain": [
       "<Figure size 432x288 with 1 Axes>"
      ]
     },
     "metadata": {
      "needs_background": "light"
     },
     "output_type": "display_data"
    }
   ],
   "source": [
    "plt.plot(IS2E['carat'],IS2E['price'],'r.')"
   ]
  },
  {
   "cell_type": "code",
   "execution_count": 41,
   "id": "9451a015",
   "metadata": {},
   "outputs": [
    {
     "data": {
      "text/html": [
       "<div>\n",
       "<style scoped>\n",
       "    .dataframe tbody tr th:only-of-type {\n",
       "        vertical-align: middle;\n",
       "    }\n",
       "\n",
       "    .dataframe tbody tr th {\n",
       "        vertical-align: top;\n",
       "    }\n",
       "\n",
       "    .dataframe thead th {\n",
       "        text-align: right;\n",
       "    }\n",
       "</style>\n",
       "<table border=\"1\" class=\"dataframe\">\n",
       "  <thead>\n",
       "    <tr style=\"text-align: right;\">\n",
       "      <th></th>\n",
       "      <th>carat</th>\n",
       "      <th>cut</th>\n",
       "      <th>color</th>\n",
       "      <th>clarity</th>\n",
       "      <th>depth</th>\n",
       "      <th>table</th>\n",
       "      <th>price</th>\n",
       "      <th>x</th>\n",
       "      <th>y</th>\n",
       "      <th>z</th>\n",
       "    </tr>\n",
       "  </thead>\n",
       "  <tbody>\n",
       "    <tr>\n",
       "      <th>1355</th>\n",
       "      <td>0.70</td>\n",
       "      <td>Fair</td>\n",
       "      <td>E</td>\n",
       "      <td>VS1</td>\n",
       "      <td>64.5</td>\n",
       "      <td>57.0</td>\n",
       "      <td>2964</td>\n",
       "      <td>5.59</td>\n",
       "      <td>5.55</td>\n",
       "      <td>3.59</td>\n",
       "    </tr>\n",
       "    <tr>\n",
       "      <th>2873</th>\n",
       "      <td>0.90</td>\n",
       "      <td>Fair</td>\n",
       "      <td>E</td>\n",
       "      <td>VS1</td>\n",
       "      <td>67.6</td>\n",
       "      <td>56.0</td>\n",
       "      <td>3276</td>\n",
       "      <td>5.94</td>\n",
       "      <td>5.90</td>\n",
       "      <td>4.00</td>\n",
       "    </tr>\n",
       "    <tr>\n",
       "      <th>10353</th>\n",
       "      <td>0.91</td>\n",
       "      <td>Fair</td>\n",
       "      <td>E</td>\n",
       "      <td>VS1</td>\n",
       "      <td>64.5</td>\n",
       "      <td>58.0</td>\n",
       "      <td>4770</td>\n",
       "      <td>6.14</td>\n",
       "      <td>6.10</td>\n",
       "      <td>3.95</td>\n",
       "    </tr>\n",
       "    <tr>\n",
       "      <th>18212</th>\n",
       "      <td>1.00</td>\n",
       "      <td>Fair</td>\n",
       "      <td>E</td>\n",
       "      <td>VS1</td>\n",
       "      <td>64.4</td>\n",
       "      <td>55.0</td>\n",
       "      <td>7392</td>\n",
       "      <td>6.33</td>\n",
       "      <td>6.30</td>\n",
       "      <td>4.07</td>\n",
       "    </tr>\n",
       "    <tr>\n",
       "      <th>25024</th>\n",
       "      <td>0.30</td>\n",
       "      <td>Fair</td>\n",
       "      <td>E</td>\n",
       "      <td>VS1</td>\n",
       "      <td>56.3</td>\n",
       "      <td>62.0</td>\n",
       "      <td>640</td>\n",
       "      <td>4.47</td>\n",
       "      <td>4.49</td>\n",
       "      <td>2.52</td>\n",
       "    </tr>\n",
       "    <tr>\n",
       "      <th>26202</th>\n",
       "      <td>1.50</td>\n",
       "      <td>Fair</td>\n",
       "      <td>E</td>\n",
       "      <td>VS1</td>\n",
       "      <td>65.4</td>\n",
       "      <td>57.0</td>\n",
       "      <td>15584</td>\n",
       "      <td>7.14</td>\n",
       "      <td>7.07</td>\n",
       "      <td>4.65</td>\n",
       "    </tr>\n",
       "    <tr>\n",
       "      <th>28270</th>\n",
       "      <td>0.25</td>\n",
       "      <td>Fair</td>\n",
       "      <td>E</td>\n",
       "      <td>VS1</td>\n",
       "      <td>55.2</td>\n",
       "      <td>64.0</td>\n",
       "      <td>361</td>\n",
       "      <td>4.21</td>\n",
       "      <td>4.23</td>\n",
       "      <td>2.33</td>\n",
       "    </tr>\n",
       "    <tr>\n",
       "      <th>31615</th>\n",
       "      <td>0.27</td>\n",
       "      <td>Fair</td>\n",
       "      <td>E</td>\n",
       "      <td>VS1</td>\n",
       "      <td>66.4</td>\n",
       "      <td>58.0</td>\n",
       "      <td>371</td>\n",
       "      <td>3.99</td>\n",
       "      <td>4.02</td>\n",
       "      <td>2.66</td>\n",
       "    </tr>\n",
       "    <tr>\n",
       "      <th>32550</th>\n",
       "      <td>0.30</td>\n",
       "      <td>Fair</td>\n",
       "      <td>E</td>\n",
       "      <td>VS1</td>\n",
       "      <td>64.5</td>\n",
       "      <td>56.0</td>\n",
       "      <td>799</td>\n",
       "      <td>4.26</td>\n",
       "      <td>4.20</td>\n",
       "      <td>2.73</td>\n",
       "    </tr>\n",
       "    <tr>\n",
       "      <th>46503</th>\n",
       "      <td>0.53</td>\n",
       "      <td>Fair</td>\n",
       "      <td>E</td>\n",
       "      <td>VS1</td>\n",
       "      <td>62.3</td>\n",
       "      <td>67.0</td>\n",
       "      <td>1778</td>\n",
       "      <td>5.22</td>\n",
       "      <td>5.11</td>\n",
       "      <td>3.22</td>\n",
       "    </tr>\n",
       "    <tr>\n",
       "      <th>47740</th>\n",
       "      <td>0.50</td>\n",
       "      <td>Fair</td>\n",
       "      <td>E</td>\n",
       "      <td>VS1</td>\n",
       "      <td>55.3</td>\n",
       "      <td>65.0</td>\n",
       "      <td>1890</td>\n",
       "      <td>5.35</td>\n",
       "      <td>5.31</td>\n",
       "      <td>2.95</td>\n",
       "    </tr>\n",
       "    <tr>\n",
       "      <th>48241</th>\n",
       "      <td>0.50</td>\n",
       "      <td>Fair</td>\n",
       "      <td>E</td>\n",
       "      <td>VS1</td>\n",
       "      <td>56.1</td>\n",
       "      <td>64.0</td>\n",
       "      <td>1950</td>\n",
       "      <td>5.31</td>\n",
       "      <td>5.28</td>\n",
       "      <td>2.97</td>\n",
       "    </tr>\n",
       "    <tr>\n",
       "      <th>49996</th>\n",
       "      <td>0.58</td>\n",
       "      <td>Fair</td>\n",
       "      <td>E</td>\n",
       "      <td>VS1</td>\n",
       "      <td>57.9</td>\n",
       "      <td>56.0</td>\n",
       "      <td>2192</td>\n",
       "      <td>5.52</td>\n",
       "      <td>5.49</td>\n",
       "      <td>3.19</td>\n",
       "    </tr>\n",
       "    <tr>\n",
       "      <th>51153</th>\n",
       "      <td>0.62</td>\n",
       "      <td>Fair</td>\n",
       "      <td>E</td>\n",
       "      <td>VS1</td>\n",
       "      <td>58.8</td>\n",
       "      <td>67.0</td>\n",
       "      <td>2344</td>\n",
       "      <td>5.66</td>\n",
       "      <td>5.57</td>\n",
       "      <td>3.29</td>\n",
       "    </tr>\n",
       "  </tbody>\n",
       "</table>\n",
       "</div>"
      ],
      "text/plain": [
       "       carat   cut color clarity  depth  table  price     x     y     z\n",
       "1355    0.70  Fair     E     VS1   64.5   57.0   2964  5.59  5.55  3.59\n",
       "2873    0.90  Fair     E     VS1   67.6   56.0   3276  5.94  5.90  4.00\n",
       "10353   0.91  Fair     E     VS1   64.5   58.0   4770  6.14  6.10  3.95\n",
       "18212   1.00  Fair     E     VS1   64.4   55.0   7392  6.33  6.30  4.07\n",
       "25024   0.30  Fair     E     VS1   56.3   62.0    640  4.47  4.49  2.52\n",
       "26202   1.50  Fair     E     VS1   65.4   57.0  15584  7.14  7.07  4.65\n",
       "28270   0.25  Fair     E     VS1   55.2   64.0    361  4.21  4.23  2.33\n",
       "31615   0.27  Fair     E     VS1   66.4   58.0    371  3.99  4.02  2.66\n",
       "32550   0.30  Fair     E     VS1   64.5   56.0    799  4.26  4.20  2.73\n",
       "46503   0.53  Fair     E     VS1   62.3   67.0   1778  5.22  5.11  3.22\n",
       "47740   0.50  Fair     E     VS1   55.3   65.0   1890  5.35  5.31  2.95\n",
       "48241   0.50  Fair     E     VS1   56.1   64.0   1950  5.31  5.28  2.97\n",
       "49996   0.58  Fair     E     VS1   57.9   56.0   2192  5.52  5.49  3.19\n",
       "51153   0.62  Fair     E     VS1   58.8   67.0   2344  5.66  5.57  3.29"
      ]
     },
     "execution_count": 41,
     "metadata": {},
     "output_type": "execute_result"
    }
   ],
   "source": [
    "IS2E"
   ]
  },
  {
   "cell_type": "code",
   "execution_count": 3,
   "id": "8090c255",
   "metadata": {},
   "outputs": [],
   "source": [
    "#Read the raw data in\n",
    "M  = pd.read_csv('Mahalanobis_Example_1.csv')"
   ]
  },
  {
   "cell_type": "code",
   "execution_count": 5,
   "id": "1145b22b",
   "metadata": {},
   "outputs": [
    {
     "name": "stdout",
     "output_type": "stream",
     "text": [
      "-2.4916913823203024 -2.817894301843987\n"
     ]
    }
   ],
   "source": [
    "#calculate ancilliary statistics\n",
    "  #centroid of the data\n",
    "Mw     = np.mean(M['W'])\n",
    "Mh     = np.mean(M['H'])\n",
    "  #covariance matrix\n",
    "S = np.cov(M['W'],M['H'])\n",
    "  #most extreme x's\n",
    "min_w = np.min(M['W'])\n",
    "max_w = np.max(M['W'])\n",
    "ex_w  = min_w if np.abs(min_w) > np.abs(max_w) else max_w\n",
    "idx_w = np.where(M['W'] == ex_w)[0][0]\n",
    "  #locate the 'outlier'\n",
    "Out_w = M['W'].iloc[idx_w]\n",
    "Out_h = M['H'].iloc[idx_w]\n",
    "  #naive Z-scores\n",
    "Stdw = np.std(M['W'])\n",
    "Stdh = np.std(M['H'])\n",
    "Zw = (Out_w - Mw)/Stdw\n",
    "Zh = (Out_h - Mh)/Stdh\n",
    "print(Zw,Zh)"
   ]
  },
  {
   "cell_type": "code",
   "execution_count": 11,
   "id": "49b64515",
   "metadata": {},
   "outputs": [
    {
     "name": "stdout",
     "output_type": "stream",
     "text": [
      "-2.740013204109833 0.2442793302366915\n"
     ]
    }
   ],
   "source": [
    "#rotate the distribution\n",
    "  #rotation amount\n",
    "rot = 1.0/np.sqrt(2.0)\n",
    "M['X'] =  rot*M['W'] + rot*M['H']\n",
    "M['Y'] =  rot*M['W'] - rot*M['H']\n",
    "Mx     = np.mean(M['X'])\n",
    "My     = np.mean(M['Y'])\n",
    "Stdx   = np.std(M['X'])\n",
    "Stdy   = np.std(M['Y'])\n",
    "  #outlier in new coords\n",
    "Out_x = M['X'].iloc[idx_w]\n",
    "Out_y = M['Y'].iloc[idx_w]\n",
    "  #diagonalized Z-score\n",
    "RZx = (M['X'].iloc[idx_w] - Mx)/Stdx\n",
    "RZy = (M['Y'].iloc[idx_w] - My)/Stdy\n",
    "print(RZx,RZy)"
   ]
  },
  {
   "cell_type": "code",
   "execution_count": 12,
   "id": "2f64b458",
   "metadata": {},
   "outputs": [
    {
     "data": {
      "text/plain": [
       "(-35.0, 35.0)"
      ]
     },
     "execution_count": 12,
     "metadata": {},
     "output_type": "execute_result"
    },
    {
     "data": {
      "image/png": "[encoded data removed]",
      "text/plain": [
       "<Figure size 432x288 with 1 Axes>"
      ]
     },
     "metadata": {
      "needs_background": "light"
     },
     "output_type": "display_data"
    }
   ],
   "source": [
    "plt.plot(M['W'],M['H'],color='blue',marker='o',markersize=8,linestyle='none')\n",
    "plt.plot(M['W'].iloc[idx_w],M['H'].iloc[idx_w],color='yellow',marker='*')\n",
    "plt.plot(Mx,My,color='red',marker='o',markersize=10)\n",
    "plt.xlim([-35,35])\n",
    "plt.ylim([-35,35])"
   ]
  },
  {
   "cell_type": "code",
   "execution_count": 13,
   "id": "772dc163",
   "metadata": {},
   "outputs": [
    {
     "data": {
      "text/plain": [
       "(-35.0, 35.0)"
      ]
     },
     "execution_count": 13,
     "metadata": {},
     "output_type": "execute_result"
    },
    {
     "data": {
      "image/png": "[encoded data removed]",
      "text/plain": [
       "<Figure size 432x288 with 1 Axes>"
      ]
     },
     "metadata": {
      "needs_background": "light"
     },
     "output_type": "display_data"
    }
   ],
   "source": [
    "plt.plot(M['X'],M['Y'],color='blue',marker='o',markersize=8,linestyle='none')\n",
    "plt.plot(M['X'].iloc[idx_w],M['Y'].iloc[idx_w],color='yellow',marker='*')\n",
    "plt.plot(Mx,My,color='red',marker='o',markersize=10)\n",
    "plt.xlim([-35,35])\n",
    "plt.ylim([-35,35])"
   ]
  },
  {
   "cell_type": "code",
   "execution_count": 15,
   "id": "ddcb7056",
   "metadata": {},
   "outputs": [
    {
     "name": "stdout",
     "output_type": "stream",
     "text": [
      "31.79175440116234 31.79175440116234\n"
     ]
    }
   ],
   "source": [
    "#calculate the distances\n",
    "dist_out_WH = np.sqrt( (Out_w - Mw)**2 + (Out_h - Mh)**2 )\n",
    "dist_out_XY = np.sqrt( (Out_x - Mx)**2 + (Out_y - My)**2 )\n",
    "print(dist_out_WH,dist_out_XY)"
   ]
  },
  {
   "cell_type": "code",
   "execution_count": 35,
   "id": "f82e24b8",
   "metadata": {},
   "outputs": [],
   "source": [
    "X = 0 + Mx\n",
    "Y = 31.79 + My\n",
    "W = rot*X - rot*Y\n",
    "H = rot*X + rot*Y"
   ]
  },
  {
   "cell_type": "code",
   "execution_count": 36,
   "id": "809bdbbd",
   "metadata": {},
   "outputs": [
    {
     "data": {
      "text/plain": [
       "(-35.0, 35.0)"
      ]
     },
     "execution_count": 36,
     "metadata": {},
     "output_type": "execute_result"
    },
    {
     "data": {
      "image/png": "[encoded data removed]",
      "text/plain": [
       "<Figure size 432x288 with 1 Axes>"
      ]
     },
     "metadata": {
      "needs_background": "light"
     },
     "output_type": "display_data"
    }
   ],
   "source": [
    "plt.plot(M['X'],M['Y'],color='blue',marker='o',markersize=8,linestyle='none')\n",
    "plt.plot(M['X'].iloc[idx_w],M['Y'].iloc[idx_w],color='yellow',marker='*')\n",
    "plt.plot(Mx,My,color='red',marker='o',markersize=10)\n",
    "plt.plot(X,Y,color='black',marker='o',markersize=10)\n",
    "plt.xlim([-35,35])\n",
    "plt.ylim([-35,35])"
   ]
  },
  {
   "cell_type": "code",
   "execution_count": 37,
   "id": "8da8c693",
   "metadata": {},
   "outputs": [],
   "source": [
    "Z = Y/Stdy"
   ]
  },
  {
   "cell_type": "code",
   "execution_count": 38,
   "id": "e7f17431",
   "metadata": {},
   "outputs": [
    {
     "name": "stdout",
     "output_type": "stream",
     "text": [
      "10.156383603256174\n"
     ]
    }
   ],
   "source": [
    "print(Z)"
   ]
  },
  {
   "cell_type": "code",
   "execution_count": 39,
   "id": "2e732e27",
   "metadata": {},
   "outputs": [
    {
     "name": "stdout",
     "output_type": "stream",
     "text": [
      "31.79\n"
     ]
    }
   ],
   "source": [
    "print( np.sqrt( (X - Mx)**2 + (Y - My)**2 ) )"
   ]
  },
  {
   "cell_type": "code",
   "execution_count": null,
   "id": "81f5d7ac",
   "metadata": {},
   "outputs": [],
   "source": []
  }
 ],
 "metadata": {
  "kernelspec": {
   "display_name": "Python 3 (ipykernel)",
   "language": "python",
   "name": "python3"
  },
  "language_info": {
   "codemirror_mode": {
    "name": "ipython",
    "version": 3
   },
   "file_extension": ".py",
   "mimetype": "text/x-python",
   "name": "python",
   "nbconvert_exporter": "python",
   "pygments_lexer": "ipython3",
   "version": "3.8.12"
  }
 },
 "nbformat": 4,
 "nbformat_minor": 5
}
