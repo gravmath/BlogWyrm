{
 "cells": [
  {
   "cell_type": "code",
   "execution_count": 1,
   "id": "95fc068e",
   "metadata": {},
   "outputs": [],
   "source": [
    "import numpy"
   ]
  },
  {
   "cell_type": "code",
   "execution_count": 25,
   "id": "d8e5d7b1",
   "metadata": {},
   "outputs": [],
   "source": [
    "def init_cluster_labels(rows,cols):\n",
    "    cluster_labels = {}\n",
    "    for i in range(rows):\n",
    "        for j in range(cols):\n",
    "            cluster_labels[(i,j)] = {'cluster':-1,'proper':-1}\n",
    "    return cluster_labels  "
   ]
  },
  {
   "cell_type": "code",
   "execution_count": 26,
   "id": "f2e27536",
   "metadata": {},
   "outputs": [],
   "source": [
    "rows = 7\n",
    "cols = 7"
   ]
  },
  {
   "cell_type": "code",
   "execution_count": 27,
   "id": "2e9d16bc",
   "metadata": {},
   "outputs": [],
   "source": [
    "labels = init_cluster_labels(rows,cols)"
   ]
  },
  {
   "cell_type": "code",
   "execution_count": 29,
   "id": "2b15bae7",
   "metadata": {},
   "outputs": [
    {
     "data": {
      "text/plain": [
       "-1"
      ]
     },
     "execution_count": 29,
     "metadata": {},
     "output_type": "execute_result"
    }
   ],
   "source": [
    "labels[(0,0)]['cluster']"
   ]
  },
  {
   "cell_type": "code",
   "execution_count": 30,
   "id": "a739ef5b",
   "metadata": {},
   "outputs": [],
   "source": [
    "pl = {-1: 0, 0: 0, 1: 1, 2: 2, 3: 3, 4: 3, 5: 3, 6: 3, 7: 7, 8: 3, 9: 3}"
   ]
  },
  {
   "cell_type": "code",
   "execution_count": 42,
   "id": "dcf12a25",
   "metadata": {},
   "outputs": [],
   "source": [
    "set_unique_cluster_labels = set(pl.values())\n",
    "num_unique_clusters       = len(set_unique_cluster_labels)\n",
    "translate = {}\n",
    "for i,k in enumerate(set_unique_cluster_labels):\n",
    "    translate[k] = i"
   ]
  },
  {
   "cell_type": "code",
   "execution_count": 43,
   "id": "6bd182a2",
   "metadata": {},
   "outputs": [
    {
     "name": "stdout",
     "output_type": "stream",
     "text": [
      "{0: 0, 1: 1, 2: 2, 3: 3, 7: 4}\n"
     ]
    }
   ],
   "source": [
    "print(translate)"
   ]
  },
  {
   "cell_type": "code",
   "execution_count": 41,
   "id": "9910e474",
   "metadata": {},
   "outputs": [
    {
     "data": {
      "text/plain": [
       "{0, 1, 2, 3, 7}"
      ]
     },
     "execution_count": 41,
     "metadata": {},
     "output_type": "execute_result"
    }
   ],
   "source": [
    "set_unique_cluster_labels"
   ]
  },
  {
   "cell_type": "code",
   "execution_count": null,
   "id": "2eff2133",
   "metadata": {},
   "outputs": [],
   "source": []
  }
 ],
 "metadata": {
  "kernelspec": {
   "display_name": "Python 3 (ipykernel)",
   "language": "python",
   "name": "python3"
  },
  "language_info": {
   "codemirror_mode": {
    "name": "ipython",
    "version": 3
   },
   "file_extension": ".py",
   "mimetype": "text/x-python",
   "name": "python",
   "nbconvert_exporter": "python",
   "pygments_lexer": "ipython3",
   "version": "3.8.12"
  }
 },
 "nbformat": 4,
 "nbformat_minor": 5
}
