{
 "cells": [
  {
   "cell_type": "code",
   "execution_count": 1,
   "id": "be35716f",
   "metadata": {},
   "outputs": [],
   "source": [
    "import matplotlib.pyplot as plt\n",
    "import numpy             as np"
   ]
  },
  {
   "cell_type": "code",
   "execution_count": 697,
   "id": "7fa86946",
   "metadata": {},
   "outputs": [],
   "source": [
    "#global values\n",
    "L       = 1              #meters\n",
    "Natoms  = 200           \n",
    "Ratom   = 0.03           #meters\n",
    "T       = 300            #Kelvin (K)\n",
    "k_b     = 1.4e-23        #J/K\n",
    "dt      = 1e-5           #seconds\n",
    "N_A     = 6.0221408e+23\n",
    "He_mm   = 4e-3           #kilograms/mole\n",
    "He_mass = He_mm/N_A      #kilograms"
   ]
  },
  {
   "cell_type": "code",
   "execution_count": 698,
   "id": "e936fc34",
   "metadata": {},
   "outputs": [],
   "source": [
    "def initialize_atoms():\n",
    "    poss    = L*(np.random.rand(Natoms,3)-0.5)\n",
    "    vel_mag = np.sqrt(3*k_b*T/He_mass)\n",
    "    thetas  = np.pi*np.random.rand(Natoms)\n",
    "    phis    = 2*np.pi*np.random.rand(Natoms)\n",
    "    vels    = vel_mag*np.array([np.sin(thetas)*np.cos(phis),np.sin(thetas)*np.sin(phis),np.cos(thetas)]).T #verfied by hand\n",
    "    \n",
    "    return poss, vels"
   ]
  },
  {
   "cell_type": "code",
   "execution_count": 699,
   "id": "2ca1f394",
   "metadata": {},
   "outputs": [],
   "source": [
    "def update_positions(poss,vels):\n",
    "    poss[...] = poss[...] + vels[...]*dt"
   ]
  },
  {
   "cell_type": "code",
   "execution_count": 710,
   "id": "1e2b08ba",
   "metadata": {},
   "outputs": [],
   "source": [
    "def check_for_collisions(poss):\n",
    "    hitlist = []\n",
    "    d_sqr   = 4*Ratom*Ratom\n",
    "    for i in range(len(poss)):\n",
    "        pos_i = poss[i]\n",
    "        for j in range(i+1,Natoms):\n",
    "            pos_j   = poss[j]\n",
    "            rel_pos = pos_i - pos_j\n",
    "            if rel_pos.dot(rel_pos) < d_sqr: \n",
    "                print(i,j,rel_pos,rel_pos.dot(rel_pos),d_sqr)\n",
    "                hitlist.append((i,j))\n",
    "    \n",
    "    return hitlist     "
   ]
  },
  {
   "cell_type": "code",
   "execution_count": 701,
   "id": "e947b4bf",
   "metadata": {},
   "outputs": [],
   "source": [
    "def reflect(pos,vel,n):\n",
    "    #hand verified by directly manipulating poss\n",
    "    if np.abs(pos[n]) > L/2:\n",
    "        ddist  = np.abs(pos[n]) - L/2\n",
    "        pos[n] = np.sign(pos[n])*(L/2 - ddist)\n",
    "        vel[n] = -1*vel[n]\n",
    "        \n",
    "    return pos,vel"
   ]
  },
  {
   "cell_type": "code",
   "execution_count": 702,
   "id": "65ee5d87",
   "metadata": {},
   "outputs": [],
   "source": [
    "def update_velocities_for_bounce(poss,vels):\n",
    "    for pos,vel in zip(poss,vels):\n",
    "        pos,vel = reflect(pos,vel,0)\n",
    "        pos,vel = reflect(pos,vel,1)\n",
    "        pos,vel = reflect(pos,vel,2)        "
   ]
  },
  {
   "cell_type": "code",
   "execution_count": 737,
   "id": "7972312b",
   "metadata": {},
   "outputs": [],
   "source": [
    "def update_velocities_for_collision(poss,vels):\n",
    "    hitlist = check_for_collisions(poss)\n",
    "    mass    = He_mass/N_A  #mass of the atom in kg\n",
    "    mass = 4E-3/6E23 #temp assignment for debugging\n",
    "    for i,j in hitlist:\n",
    "        #get the individual states\n",
    "        pos_i = poss[i]\n",
    "        pos_j = poss[j]\n",
    "        vel_i = vels[i]\n",
    "        vel_j = vels[j]\n",
    "        \n",
    "        #calculate the relative position and velocity\n",
    "        rrel     = pos_i - pos_j #the way Sherwood has it ???\n",
    "        vrel     = vel_j - vel_i #this one is opposite ??\n",
    "        rrel_mag = np.sqrt(rrel.dot(rrel))        \n",
    "        vrel_mag = np.sqrt(vrel.dot(vrel))\n",
    "        rrel_hat = rrel/rrel_mag\n",
    "        vrel_hat = vrel/vrel_mag\n",
    "\n",
    "        #scattering geometry\n",
    "        dx       = rrel.dot(vrel_hat)\n",
    "        dy_vec   = np.cross(rrel,vrel_hat)\n",
    "        dy       = np.sqrt(dy_vec.dot(dy_vec))\n",
    "        alpha    = np.arcsin(dy/(2*Ratom)) \n",
    "        if dy > 2*Ratom:\n",
    "            print('***************************')\n",
    "            print(hitlist)\n",
    "            print('i: ',i,'j: ',j)\n",
    "            print('pos_i: ',pos_i)\n",
    "            print('pos_j: ',pos_j)\n",
    "            print('rrel: ',rrel)\n",
    "            print('vel_i: ',vel_i)\n",
    "            print('vel_j: ',vel_j)\n",
    "            print('dy & 2*Ratom: ',dy, 2*Ratom)\n",
    "        d        = (2*Ratom)*np.cos(alpha)-dx #distance traveled into the atom from first contact\n",
    "        deltat   = d/vrel_mag                 #time spent moving from first contact to position inside atom\n",
    "        \n",
    "        #back up the particles until the first point of contact\n",
    "        pos_i = pos_i - vel_i*deltat #back up particle i to contact configuration\n",
    "        pos_j = pos_j - vel_j*deltat #back up particle j to contact configuration\n",
    "        \n",
    "        #check the relative distance at the contact (star) point\n",
    "        rrel_star      = pos_i - pos_j\n",
    "        rrel_mag_star  = np.sqrt(rrel_star.dot(rrel_star))        \n",
    "        if np.abs(2*Ratom - rrel_mag_star) > 1e-7:\n",
    "            print('still penetrating')\n",
    "        \n",
    "        #now adjust the momenta\n",
    "        mtot   = 2*mass\n",
    "        p_i    = mass*vel_i\n",
    "        p_j    = mass*vel_j\n",
    "        p_tot  = p_i + p_j\n",
    "        #transform momenta to cm frame\n",
    "        p_i_cm = p_i - p_tot*mass/mtot \n",
    "        p_j_cm = p_j - p_tot*mass/mtot\n",
    "        #bounce in cm frame\n",
    "        p_i_cm = p_i_cm - 2*p_i_cm.dot(rrel_hat)*(rrel_hat)\n",
    "        p_j_cm = p_j_cm - 2*p_j_cm.dot(rrel_hat)*(rrel_hat)\n",
    "        # transform momenta back to lab frame\n",
    "        p_i    = p_i_cm + p_tot*mass/mtot \n",
    "        p_j    = p_j_cm + p_tot*mass/mtot \n",
    "        # move forward deltat in time\n",
    "        pos_i  = pos_i + (p_i/mass)*deltat\n",
    "        pos_j  = pos_j + (p_j/mass)*deltat\n",
    "        \n",
    "        #update positions and velocities\n",
    "        poss[i] = pos_i\n",
    "        poss[j] = pos_j\n",
    "        vels[i] = p_i/mass\n",
    "        vels[j] = p_j/mass"
   ]
  },
  {
   "cell_type": "code",
   "execution_count": 704,
   "id": "ec24a6c0",
   "metadata": {},
   "outputs": [],
   "source": [
    "def update_velocities(poss,vels):\n",
    "    update_velocities_for_collision(poss,vels)\n",
    "    update_velocities_for_bounce(poss,vels)"
   ]
  },
  {
   "cell_type": "code",
   "execution_count": 705,
   "id": "c1dfd7c8",
   "metadata": {},
   "outputs": [],
   "source": [
    "def update_state(poss,vels):\n",
    "    update_positions(poss,vels)\n",
    "    update_velocities(poss,vels)"
   ]
  },
  {
   "cell_type": "code",
   "execution_count": 706,
   "id": "0c99aebd",
   "metadata": {},
   "outputs": [],
   "source": [
    "def MB_dist(vs):\n",
    "    coeff = np.power((He_mass/2.0/np.pi/k_b/T),1.5)*4*np.pi*vs**2\n",
    "    body  = np.exp(-He_mass*vs**2/2.0/k_b/T)\n",
    "    \n",
    "    return coeff*body"
   ]
  },
  {
   "cell_type": "code",
   "execution_count": 707,
   "id": "d865bb34",
   "metadata": {},
   "outputs": [],
   "source": [
    "vs = np.arange(0,3000,10)\n",
    "mb = MB_dist(vs)"
   ]
  },
  {
   "cell_type": "code",
   "execution_count": 743,
   "id": "f54163b6",
   "metadata": {},
   "outputs": [
    {
     "name": "stdout",
     "output_type": "stream",
     "text": [
      "3.793948703999999\n"
     ]
    },
    {
     "data": {
      "image/png": "[encoded data removed]",
      "text/plain": [
       "<Figure size 432x288 with 1 Axes>"
      ]
     },
     "metadata": {
      "needs_background": "light"
     },
     "output_type": "display_data"
    }
   ],
   "source": [
    "poss, vels = initialize_atoms()\n",
    "speeds = np.sqrt(vels[:,0]**2 + vels[:,1]**2 + vels[:,2]**2)\n",
    "plt.hist(speeds,bins=np.arange(0,3000,100),density=True)\n",
    "plt.plot(vs,mb,'r-')\n",
    "plt.ylim([0,0.0012]);\n",
    "plt.xlabel('Atom Speeds (m/s)',fontsize=16)\n",
    "print(np.sum(vels**2)/1e8)"
   ]
  },
  {
   "cell_type": "code",
   "execution_count": 741,
   "id": "b1f5bfec",
   "metadata": {},
   "outputs": [
    {
     "name": "stdout",
     "output_type": "stream",
     "text": [
      "0 13 [-0.01805169 -0.03908231  0.01001982] 0.0019536871976645227 0.0036\n",
      "0 119 [0.02276679 0.02671289 0.03022609] 0.002145522005894062 0.0036\n",
      "2 120 [ 0.01247298 -0.00284283 -0.05168912] 0.0028354221605420417 0.0036\n",
      "2 138 [ 0.01876194 -0.01215905 -0.05216958] 0.0032215180531722063 0.0036\n",
      "6 28 [ 0.05279073  0.00078348 -0.01822234] 0.0031195286572029035 0.0036\n",
      "10 79 [-0.03902441  0.03751008  0.00110147] 0.0029311236525156313 0.0036\n",
      "26 55 [-0.03509888  0.00331062 -0.0226368 ] 0.0017553167165472066 0.0036\n",
      "26 121 [-0.01047648  0.04293239  0.02163417] 0.0024209836374072024 0.0036\n",
      "32 177 [ 0.01148678 -0.00133006  0.03286557] 0.001213860635376339 0.0036\n",
      "32 188 [-0.01982231 -0.00246891 -0.02473101] 0.001010642142663315 0.0036\n",
      "42 49 [ 0.00323568 -0.04023978  0.00336641] 0.001641041994120639 0.0036\n",
      "43 141 [-0.02038352 -0.03954001 -0.00846602] 0.0020505731793808747 0.0036\n",
      "65 70 [0.03158996 0.0485207  0.00934739] 0.0034395573755059633 0.0036\n",
      "75 102 [ 0.01242822 -0.02013465 -0.04175236] 0.0023031241568447153 0.0036\n",
      "84 97 [-0.03531667 -0.01458026  0.02639874] 0.0021567449491540474 0.0036\n",
      "90 156 [-0.03883627 -0.00319172 -0.03919859] 0.00305497182484235 0.0036\n",
      "93 198 [-0.00385538 -0.00251089 -0.04588067] 0.0021262042134861615 0.0036\n",
      "110 180 [-0.00387006  0.00820343 -0.05560596] 0.0031742959942710407 0.0036\n",
      "111 167 [-0.03060372 -0.00100273  0.00766356] 0.0009963231673719632 0.0036\n",
      "120 138 [ 0.00628896 -0.00931622 -0.00048046] 0.00012657389547472326 0.0036\n",
      "122 191 [-0.03213964 -0.04556942  0.00156788] 0.0031119862087232554 0.0036\n",
      "133 142 [-0.05061353 -0.00500536 -0.01707162] 0.0028782230425109414 0.0036\n",
      "155 172 [-0.00121535 -0.00160295  0.01419367] 0.00020550689367957055 0.0036\n",
      "160 167 [ 0.02596525 -0.05318622 -0.00982241] 0.0035994477353129967 0.0036\n",
      "***************************\n",
      "[(0, 13), (0, 119), (2, 120), (2, 138), (6, 28), (10, 79), (26, 55), (26, 121), (32, 177), (32, 188), (42, 49), (43, 141), (65, 70), (75, 102), (84, 97), (90, 156), (93, 198), (110, 180), (111, 167), (120, 138), (122, 191), (133, 142), (155, 172), (160, 167)]\n",
      "i:  0 j:  119\n",
      "pos_i:  [-0.21594907  0.47180599 -0.25333057]\n",
      "pos_j:  [-0.25551775  0.40871663 -0.27423057]\n",
      "rrel:  [0.03956868 0.06308935 0.02089999]\n",
      "vel_i:  [-765.17882493  156.41100867  231.29884869]\n",
      "vel_j:  [-1316.42547877   355.81170062   193.38134485]\n",
      "dy & 2*Ratom:  0.07544228579152626 0.06\n",
      "3.793948704\n"
     ]
    },
    {
     "name": "stderr",
     "output_type": "stream",
     "text": [
      "C:\\Users\\byecs\\AppData\\Local\\Temp/ipykernel_27156/1416350437.py:24: RuntimeWarning: invalid value encountered in arcsin\n",
      "  alpha    = np.arcsin(dy/(2*Ratom))\n"
     ]
    },
    {
     "data": {
      "image/png": "[encoded data removed]",
      "text/plain": [
       "<Figure size 432x288 with 1 Axes>"
      ]
     },
     "metadata": {
      "needs_background": "light"
     },
     "output_type": "display_data"
    }
   ],
   "source": [
    "update_state(poss,vels)\n",
    "speeds = np.sqrt(vels[:,0]**2 + vels[:,1]**2 + vels[:,2]**2)\n",
    "plt.hist(speeds,bins=np.arange(0,3000,100),density=True);\n",
    "plt.plot(vs,mb,'r-')\n",
    "plt.ylim([0,0.0012]);\n",
    "print(np.sum(vels**2)/1e8)"
   ]
  },
  {
   "cell_type": "code",
   "execution_count": 739,
   "id": "ab76dd11",
   "metadata": {},
   "outputs": [],
   "source": [
    "#for j in range(1000):\n",
    "#    update_state(poss,vels)"
   ]
  },
  {
   "cell_type": "code",
   "execution_count": 727,
   "id": "2432cd64",
   "metadata": {},
   "outputs": [
    {
     "data": {
      "text/plain": [
       "[<matplotlib.lines.Line2D at 0x2258f103550>]"
      ]
     },
     "execution_count": 727,
     "metadata": {},
     "output_type": "execute_result"
    },
    {
     "data": {
      "image/png": "[encoded data removed]",
      "text/plain": [
       "<Figure size 432x288 with 1 Axes>"
      ]
     },
     "metadata": {
      "needs_background": "light"
     },
     "output_type": "display_data"
    }
   ],
   "source": [
    "speeds = np.sqrt(vels[:,0]**2 + vels[:,1]**2 + vels[:,2]**2)\n",
    "plt.hist(speeds,bins=np.arange(0,3000,100),density=True);\n",
    "plt.plot(vs,mb,'r-')"
   ]
  },
  {
   "cell_type": "code",
   "execution_count": 651,
   "id": "eecf7efb",
   "metadata": {},
   "outputs": [],
   "source": [
    "pos_i = np.array([-0.17885164,0.37003664,-0.14497234])\n",
    "pos_j = np.array([-0.15873083,0.387046,-0.08997407])\n",
    "vel_i = np.array([784.85639558,-716.74783151,-1479.81280519])\n",
    "vel_j = np.array([-421.36669504,146.34030685,-1303.07673408])"
   ]
  },
  {
   "cell_type": "code",
   "execution_count": 652,
   "id": "422506a1",
   "metadata": {},
   "outputs": [],
   "source": [
    "rrel = pos_i - pos_j"
   ]
  },
  {
   "cell_type": "code",
   "execution_count": 655,
   "id": "ba4a3035",
   "metadata": {},
   "outputs": [
    {
     "data": {
      "text/plain": [
       "0.003718975025658602"
      ]
     },
     "execution_count": 655,
     "metadata": {},
     "output_type": "execute_result"
    }
   ],
   "source": [
    "rrel.dot(rrel)"
   ]
  },
  {
   "cell_type": "code",
   "execution_count": 656,
   "id": "2dde5993",
   "metadata": {},
   "outputs": [
    {
     "data": {
      "text/plain": [
       "0.0036"
      ]
     },
     "execution_count": 656,
     "metadata": {},
     "output_type": "execute_result"
    }
   ],
   "source": [
    "4*Ratom**2"
   ]
  },
  {
   "cell_type": "code",
   "execution_count": null,
   "id": "64795b3f",
   "metadata": {},
   "outputs": [],
   "source": []
  }
 ],
 "metadata": {
  "kernelspec": {
   "display_name": "Python 3 (ipykernel)",
   "language": "python",
   "name": "python3"
  },
  "language_info": {
   "codemirror_mode": {
    "name": "ipython",
    "version": 3
   },
   "file_extension": ".py",
   "mimetype": "text/x-python",
   "name": "python",
   "nbconvert_exporter": "python",
   "pygments_lexer": "ipython3",
   "version": "3.8.12"
  }
 },
 "nbformat": 4,
 "nbformat_minor": 5
}
