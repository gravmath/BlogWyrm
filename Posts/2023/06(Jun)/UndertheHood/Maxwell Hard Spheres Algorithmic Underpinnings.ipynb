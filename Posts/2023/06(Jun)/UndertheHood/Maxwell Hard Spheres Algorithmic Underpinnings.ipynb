{
 "cells": [
  {
   "cell_type": "code",
   "execution_count": 2,
   "id": "1512f4f3",
   "metadata": {},
   "outputs": [],
   "source": [
    "import matplotlib.pyplot as plt\n",
    "import numpy             as np\n",
    "import pandas            as pd"
   ]
  },
  {
   "cell_type": "code",
   "execution_count": 3,
   "id": "74eee5f9",
   "metadata": {},
   "outputs": [],
   "source": [
    "R  = 0.5\n",
    "b  = np.array([0,0.2,0])\n",
    "v  = np.array([1,0,0])\n",
    "r0 = np.array([-10,0,0])+b"
   ]
  },
  {
   "cell_type": "code",
   "execution_count": 31,
   "id": "aa09e40e",
   "metadata": {},
   "outputs": [],
   "source": [
    "t = np.arange(0,20,0.1)"
   ]
  },
  {
   "cell_type": "code",
   "execution_count": 32,
   "id": "f1ede3a8",
   "metadata": {},
   "outputs": [],
   "source": [
    "r = np.array([r0+v*tcur for tcur in t])"
   ]
  },
  {
   "cell_type": "code",
   "execution_count": 33,
   "id": "051af4a0",
   "metadata": {},
   "outputs": [],
   "source": [
    "df = pd.DataFrame(r,columns=['x','y','z'])"
   ]
  },
  {
   "cell_type": "code",
   "execution_count": 34,
   "id": "06136874",
   "metadata": {},
   "outputs": [],
   "source": [
    "df['r'] = np.sqrt(df['x']**2 + df['y']**2 + df['z']**2)"
   ]
  },
  {
   "cell_type": "code",
   "execution_count": 35,
   "id": "3a9f64d7",
   "metadata": {},
   "outputs": [],
   "source": [
    "df['t'] = t"
   ]
  },
  {
   "cell_type": "code",
   "execution_count": 36,
   "id": "6fb9ea3d",
   "metadata": {},
   "outputs": [
    {
     "data": {
      "text/plain": [
       "[<matplotlib.lines.Line2D at 0x20c8e834250>]"
      ]
     },
     "execution_count": 36,
     "metadata": {},
     "output_type": "execute_result"
    },
    {
     "data": {
      "image/png": "[encoded data removed]",
      "text/plain": [
       "<Figure size 432x288 with 1 Axes>"
      ]
     },
     "metadata": {
      "needs_background": "light"
     },
     "output_type": "display_data"
    }
   ],
   "source": [
    "plt.plot(df['t'],df['r'])"
   ]
  },
  {
   "cell_type": "code",
   "execution_count": 39,
   "id": "fe152af0",
   "metadata": {},
   "outputs": [
    {
     "data": {
      "text/plain": [
       "(array([100], dtype=int64),)"
      ]
     },
     "execution_count": 39,
     "metadata": {},
     "output_type": "execute_result"
    }
   ],
   "source": [
    "np.where(df['r']==np.min(df['r']))"
   ]
  },
  {
   "cell_type": "code",
   "execution_count": 41,
   "id": "36e869c1",
   "metadata": {},
   "outputs": [
    {
     "data": {
      "text/plain": [
       "x     0.0\n",
       "y     0.2\n",
       "z     0.0\n",
       "r     0.2\n",
       "t    10.0\n",
       "Name: 100, dtype: float64"
      ]
     },
     "execution_count": 41,
     "metadata": {},
     "output_type": "execute_result"
    }
   ],
   "source": [
    "df.iloc[100]"
   ]
  },
  {
   "cell_type": "code",
   "execution_count": 42,
   "id": "8f0b06c6",
   "metadata": {},
   "outputs": [],
   "source": [
    "pos = r[100,:]"
   ]
  },
  {
   "cell_type": "code",
   "execution_count": 43,
   "id": "5004f662",
   "metadata": {},
   "outputs": [
    {
     "data": {
      "text/plain": [
       "array([0. , 0.2, 0. ])"
      ]
     },
     "execution_count": 43,
     "metadata": {},
     "output_type": "execute_result"
    }
   ],
   "source": [
    "pos"
   ]
  },
  {
   "cell_type": "code",
   "execution_count": 46,
   "id": "73d725b6",
   "metadata": {},
   "outputs": [
    {
     "data": {
      "text/plain": [
       "array([1, 0, 0])"
      ]
     },
     "execution_count": 46,
     "metadata": {},
     "output_type": "execute_result"
    }
   ],
   "source": [
    "v"
   ]
  },
  {
   "cell_type": "code",
   "execution_count": 47,
   "id": "cdd4d6b4",
   "metadata": {},
   "outputs": [],
   "source": [
    "ctheta = pos.dot(v)/np.sqrt(pos.dot(pos))/np.sqrt(v.dot(v))"
   ]
  },
  {
   "cell_type": "code",
   "execution_count": 48,
   "id": "3bb96d59",
   "metadata": {},
   "outputs": [
    {
     "data": {
      "text/plain": [
       "0.0"
      ]
     },
     "execution_count": 48,
     "metadata": {},
     "output_type": "execute_result"
    }
   ],
   "source": [
    "ctheta"
   ]
  },
  {
   "cell_type": "code",
   "execution_count": 50,
   "id": "4ed535cb",
   "metadata": {},
   "outputs": [],
   "source": [
    "pos_mag = np.sqrt(pos.dot(pos))\n",
    "d       = pos_mag*ctheta - np.sqrt(R**2 + pos_mag**2 *(ctheta**2 - 1))\n",
    "dt      = d/np.sqrt(v.dot(v))"
   ]
  },
  {
   "cell_type": "code",
   "execution_count": 51,
   "id": "625b585f",
   "metadata": {},
   "outputs": [
    {
     "name": "stdout",
     "output_type": "stream",
     "text": [
      "-0.458257569495584\n"
     ]
    }
   ],
   "source": [
    "print(dt)"
   ]
  },
  {
   "cell_type": "code",
   "execution_count": 52,
   "id": "3c8c678d",
   "metadata": {},
   "outputs": [
    {
     "data": {
      "text/html": [
       "<div>\n",
       "<style scoped>\n",
       "    .dataframe tbody tr th:only-of-type {\n",
       "        vertical-align: middle;\n",
       "    }\n",
       "\n",
       "    .dataframe tbody tr th {\n",
       "        vertical-align: top;\n",
       "    }\n",
       "\n",
       "    .dataframe thead th {\n",
       "        text-align: right;\n",
       "    }\n",
       "</style>\n",
       "<table border=\"1\" class=\"dataframe\">\n",
       "  <thead>\n",
       "    <tr style=\"text-align: right;\">\n",
       "      <th></th>\n",
       "      <th>x</th>\n",
       "      <th>y</th>\n",
       "      <th>z</th>\n",
       "      <th>r</th>\n",
       "      <th>t</th>\n",
       "    </tr>\n",
       "  </thead>\n",
       "  <tbody>\n",
       "    <tr>\n",
       "      <th>90</th>\n",
       "      <td>-1.0</td>\n",
       "      <td>0.2</td>\n",
       "      <td>0.0</td>\n",
       "      <td>1.019804</td>\n",
       "      <td>9.0</td>\n",
       "    </tr>\n",
       "    <tr>\n",
       "      <th>91</th>\n",
       "      <td>-0.9</td>\n",
       "      <td>0.2</td>\n",
       "      <td>0.0</td>\n",
       "      <td>0.921954</td>\n",
       "      <td>9.1</td>\n",
       "    </tr>\n",
       "    <tr>\n",
       "      <th>92</th>\n",
       "      <td>-0.8</td>\n",
       "      <td>0.2</td>\n",
       "      <td>0.0</td>\n",
       "      <td>0.824621</td>\n",
       "      <td>9.2</td>\n",
       "    </tr>\n",
       "    <tr>\n",
       "      <th>93</th>\n",
       "      <td>-0.7</td>\n",
       "      <td>0.2</td>\n",
       "      <td>0.0</td>\n",
       "      <td>0.728011</td>\n",
       "      <td>9.3</td>\n",
       "    </tr>\n",
       "    <tr>\n",
       "      <th>94</th>\n",
       "      <td>-0.6</td>\n",
       "      <td>0.2</td>\n",
       "      <td>0.0</td>\n",
       "      <td>0.632456</td>\n",
       "      <td>9.4</td>\n",
       "    </tr>\n",
       "    <tr>\n",
       "      <th>95</th>\n",
       "      <td>-0.5</td>\n",
       "      <td>0.2</td>\n",
       "      <td>0.0</td>\n",
       "      <td>0.538516</td>\n",
       "      <td>9.5</td>\n",
       "    </tr>\n",
       "    <tr>\n",
       "      <th>96</th>\n",
       "      <td>-0.4</td>\n",
       "      <td>0.2</td>\n",
       "      <td>0.0</td>\n",
       "      <td>0.447214</td>\n",
       "      <td>9.6</td>\n",
       "    </tr>\n",
       "    <tr>\n",
       "      <th>97</th>\n",
       "      <td>-0.3</td>\n",
       "      <td>0.2</td>\n",
       "      <td>0.0</td>\n",
       "      <td>0.360555</td>\n",
       "      <td>9.7</td>\n",
       "    </tr>\n",
       "    <tr>\n",
       "      <th>98</th>\n",
       "      <td>-0.2</td>\n",
       "      <td>0.2</td>\n",
       "      <td>0.0</td>\n",
       "      <td>0.282843</td>\n",
       "      <td>9.8</td>\n",
       "    </tr>\n",
       "    <tr>\n",
       "      <th>99</th>\n",
       "      <td>-0.1</td>\n",
       "      <td>0.2</td>\n",
       "      <td>0.0</td>\n",
       "      <td>0.223607</td>\n",
       "      <td>9.9</td>\n",
       "    </tr>\n",
       "    <tr>\n",
       "      <th>100</th>\n",
       "      <td>0.0</td>\n",
       "      <td>0.2</td>\n",
       "      <td>0.0</td>\n",
       "      <td>0.200000</td>\n",
       "      <td>10.0</td>\n",
       "    </tr>\n",
       "  </tbody>\n",
       "</table>\n",
       "</div>"
      ],
      "text/plain": [
       "       x    y    z         r     t\n",
       "90  -1.0  0.2  0.0  1.019804   9.0\n",
       "91  -0.9  0.2  0.0  0.921954   9.1\n",
       "92  -0.8  0.2  0.0  0.824621   9.2\n",
       "93  -0.7  0.2  0.0  0.728011   9.3\n",
       "94  -0.6  0.2  0.0  0.632456   9.4\n",
       "95  -0.5  0.2  0.0  0.538516   9.5\n",
       "96  -0.4  0.2  0.0  0.447214   9.6\n",
       "97  -0.3  0.2  0.0  0.360555   9.7\n",
       "98  -0.2  0.2  0.0  0.282843   9.8\n",
       "99  -0.1  0.2  0.0  0.223607   9.9\n",
       "100  0.0  0.2  0.0  0.200000  10.0"
      ]
     },
     "execution_count": 52,
     "metadata": {},
     "output_type": "execute_result"
    }
   ],
   "source": [
    "df.iloc[90:101]"
   ]
  },
  {
   "cell_type": "code",
   "execution_count": 53,
   "id": "37795d85",
   "metadata": {},
   "outputs": [
    {
     "data": {
      "text/plain": [
       "9.541742430504415"
      ]
     },
     "execution_count": 53,
     "metadata": {},
     "output_type": "execute_result"
    }
   ],
   "source": [
    "10+dt"
   ]
  },
  {
   "cell_type": "markdown",
   "id": "68bf30e3",
   "metadata": {},
   "source": [
    "# Equivalent to Sherwood's it seems!"
   ]
  },
  {
   "cell_type": "code",
   "execution_count": null,
   "id": "5a06988e",
   "metadata": {},
   "outputs": [],
   "source": []
  }
 ],
 "metadata": {
  "kernelspec": {
   "display_name": "Python 3 (ipykernel)",
   "language": "python",
   "name": "python3"
  },
  "language_info": {
   "codemirror_mode": {
    "name": "ipython",
    "version": 3
   },
   "file_extension": ".py",
   "mimetype": "text/x-python",
   "name": "python",
   "nbconvert_exporter": "python",
   "pygments_lexer": "ipython3",
   "version": "3.8.12"
  }
 },
 "nbformat": 4,
 "nbformat_minor": 5
}
