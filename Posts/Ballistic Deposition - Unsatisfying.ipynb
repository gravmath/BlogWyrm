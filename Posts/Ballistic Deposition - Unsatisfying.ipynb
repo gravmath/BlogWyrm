{
 "cells": [
  {
   "cell_type": "code",
   "execution_count": 1,
   "metadata": {},
   "outputs": [],
   "source": [
    "L = 10"
   ]
  },
  {
   "cell_type": "code",
   "execution_count": 141,
   "metadata": {},
   "outputs": [],
   "source": [
    "stack = np.zeros(L)"
   ]
  },
  {
   "cell_type": "code",
   "execution_count": 142,
   "metadata": {},
   "outputs": [],
   "source": [
    "def downward_funnel_old(lattice,site,delta,delta_max):\n",
    "    #print delta, site, delta_max\n",
    "    \n",
    "    L     = len(lattice)\n",
    "    \n",
    "    left  = lattice[site] > lattice[site-1]\n",
    "    right = lattice[site] > lattice[(site+1)%L]\n",
    "    \n",
    "    if delta < delta_max:\n",
    "        delta += 1\n",
    "        if left and not(right):\n",
    "            site = site - 1\n",
    "        if not(left) and right:\n",
    "            site = (site+1)%L\n",
    "        if left and right:\n",
    "            if np.random.rand() < 0.5:\n",
    "                site = site-1\n",
    "            else:\n",
    "                site = (site+1)%L\n",
    "        downward_funnel(lattice,site,delta,delta_max)\n",
    "    else:\n",
    "        lattice[site] += 1\n",
    "            "
   ]
  },
  {
   "cell_type": "code",
   "execution_count": 143,
   "metadata": {},
   "outputs": [],
   "source": [
    "def calculate_W(lattice):\n",
    "    mean_h  = np.mean(lattice)\n",
    "    mean_h2 = np.mean(lattice*lattice)\n",
    "    \n",
    "    return np.sqrt(mean_h2 - mean_h**2)"
   ]
  },
  {
   "cell_type": "code",
   "execution_count": 144,
   "metadata": {},
   "outputs": [
    {
     "data": {
      "text/plain": [
       "<BarContainer object of 10 artists>"
      ]
     },
     "execution_count": 144,
     "metadata": {},
     "output_type": "execute_result"
    },
    {
     "data": {
      "image/png": "[encoded data removed]",
      "text/plain": [
       "<Figure size 432x288 with 1 Axes>"
      ]
     },
     "metadata": {},
     "output_type": "display_data"
    }
   ],
   "source": [
    "plt.bar(np.arange(L),stack,align='center')"
   ]
  },
  {
   "cell_type": "code",
   "execution_count": 145,
   "metadata": {},
   "outputs": [
    {
     "data": {
      "text/plain": [
       "0.3"
      ]
     },
     "execution_count": 145,
     "metadata": {},
     "output_type": "execute_result"
    },
    {
     "data": {
      "image/png": "[encoded data removed]",
      "text/plain": [
       "<Figure size 432x288 with 1 Axes>"
      ]
     },
     "metadata": {},
     "output_type": "display_data"
    }
   ],
   "source": [
    "delta = 0\n",
    "delta_max = 1\n",
    "site = np.random.randint(L)\n",
    "downward_funnel(stack,site,delta,delta_max)\n",
    "plt.bar(np.arange(L),stack,align='center')\n",
    "calculate_W(stack)"
   ]
  },
  {
   "cell_type": "code",
   "execution_count": 146,
   "metadata": {},
   "outputs": [
    {
     "data": {
      "text/plain": [
       "0.4"
      ]
     },
     "execution_count": 146,
     "metadata": {},
     "output_type": "execute_result"
    },
    {
     "data": {
      "image/png": "[encoded data removed]",
      "text/plain": [
       "<Figure size 432x288 with 1 Axes>"
      ]
     },
     "metadata": {},
     "output_type": "display_data"
    }
   ],
   "source": [
    "delta = 0\n",
    "delta_max = 1\n",
    "site = np.random.randint(L)\n",
    "downward_funnel(stack,site,delta,delta_max)\n",
    "plt.bar(np.arange(L),stack,align='center')\n",
    "calculate_W(stack)"
   ]
  },
  {
   "cell_type": "code",
   "execution_count": 147,
   "metadata": {},
   "outputs": [
    {
     "data": {
      "text/plain": [
       "0.458257569495584"
      ]
     },
     "execution_count": 147,
     "metadata": {},
     "output_type": "execute_result"
    },
    {
     "data": {
      "image/png": "[encoded data removed]",
      "text/plain": [
       "<Figure size 432x288 with 1 Axes>"
      ]
     },
     "metadata": {},
     "output_type": "display_data"
    }
   ],
   "source": [
    "delta = 0\n",
    "delta_max = 1\n",
    "site = np.random.randint(L)\n",
    "downward_funnel(stack,site,delta,delta_max)\n",
    "plt.bar(np.arange(L),stack,align='center')\n",
    "calculate_W(stack)"
   ]
  },
  {
   "cell_type": "code",
   "execution_count": 148,
   "metadata": {},
   "outputs": [
    {
     "data": {
      "text/plain": [
       "0.4898979485566356"
      ]
     },
     "execution_count": 148,
     "metadata": {},
     "output_type": "execute_result"
    },
    {
     "data": {
      "image/png": "[encoded data removed]",
      "text/plain": [
       "<Figure size 432x288 with 1 Axes>"
      ]
     },
     "metadata": {},
     "output_type": "display_data"
    }
   ],
   "source": [
    "delta = 0\n",
    "delta_max = 1\n",
    "site = np.random.randint(L)\n",
    "downward_funnel(stack,site,delta,delta_max)\n",
    "plt.bar(np.arange(L),stack,align='center')\n",
    "calculate_W(stack)"
   ]
  },
  {
   "cell_type": "code",
   "execution_count": 149,
   "metadata": {},
   "outputs": [
    {
     "data": {
      "text/plain": [
       "0.5"
      ]
     },
     "execution_count": 149,
     "metadata": {},
     "output_type": "execute_result"
    },
    {
     "data": {
      "image/png": "[encoded data removed]",
      "text/plain": [
       "<Figure size 432x288 with 1 Axes>"
      ]
     },
     "metadata": {},
     "output_type": "display_data"
    }
   ],
   "source": [
    "delta = 0\n",
    "delta_max = 1\n",
    "site = np.random.randint(L)\n",
    "downward_funnel(stack,site,delta,delta_max)\n",
    "plt.bar(np.arange(L),stack,align='center')\n",
    "calculate_W(stack)"
   ]
  },
  {
   "cell_type": "code",
   "execution_count": 150,
   "metadata": {},
   "outputs": [
    {
     "data": {
      "text/plain": [
       "0.4898979485566356"
      ]
     },
     "execution_count": 150,
     "metadata": {},
     "output_type": "execute_result"
    },
    {
     "data": {
      "image/png": "[encoded data removed]",
      "text/plain": [
       "<Figure size 432x288 with 1 Axes>"
      ]
     },
     "metadata": {},
     "output_type": "display_data"
    }
   ],
   "source": [
    "delta = 0\n",
    "delta_max = 1\n",
    "site = np.random.randint(L)\n",
    "downward_funnel(stack,site,delta,delta_max)\n",
    "plt.bar(np.arange(L),stack,align='center')\n",
    "calculate_W(stack)"
   ]
  },
  {
   "cell_type": "code",
   "execution_count": 151,
   "metadata": {},
   "outputs": [
    {
     "data": {
      "text/plain": [
       "0.45825756949558405"
      ]
     },
     "execution_count": 151,
     "metadata": {},
     "output_type": "execute_result"
    },
    {
     "data": {
      "image/png": "[encoded data removed]",
      "text/plain": [
       "<Figure size 432x288 with 1 Axes>"
      ]
     },
     "metadata": {},
     "output_type": "display_data"
    }
   ],
   "source": [
    "delta = 0\n",
    "delta_max = 1\n",
    "site = np.random.randint(L)\n",
    "downward_funnel(stack,site,delta,delta_max)\n",
    "plt.bar(np.arange(L),stack,align='center')\n",
    "calculate_W(stack)"
   ]
  },
  {
   "cell_type": "code",
   "execution_count": 152,
   "metadata": {},
   "outputs": [
    {
     "data": {
      "text/plain": [
       "0.5999999999999999"
      ]
     },
     "execution_count": 152,
     "metadata": {},
     "output_type": "execute_result"
    },
    {
     "data": {
      "image/png": "[encoded data removed]",
      "text/plain": [
       "<Figure size 432x288 with 1 Axes>"
      ]
     },
     "metadata": {},
     "output_type": "display_data"
    }
   ],
   "source": [
    "delta = 0\n",
    "delta_max = 1\n",
    "site = np.random.randint(L)\n",
    "downward_funnel(stack,site,delta,delta_max)\n",
    "plt.bar(np.arange(L),stack,align='center')\n",
    "calculate_W(stack)"
   ]
  },
  {
   "cell_type": "code",
   "execution_count": 153,
   "metadata": {},
   "outputs": [
    {
     "data": {
      "text/plain": [
       "0.7"
      ]
     },
     "execution_count": 153,
     "metadata": {},
     "output_type": "execute_result"
    },
    {
     "data": {
      "image/png": "[encoded data removed]",
      "text/plain": [
       "<Figure size 432x288 with 1 Axes>"
      ]
     },
     "metadata": {},
     "output_type": "display_data"
    }
   ],
   "source": [
    "delta = 0\n",
    "delta_max = 1\n",
    "site = np.random.randint(L)\n",
    "downward_funnel(stack,site,delta,delta_max)\n",
    "plt.bar(np.arange(L),stack,align='center')\n",
    "calculate_W(stack)"
   ]
  },
  {
   "cell_type": "code",
   "execution_count": 154,
   "metadata": {},
   "outputs": [
    {
     "data": {
      "text/plain": [
       "0.6324555320336758"
      ]
     },
     "execution_count": 154,
     "metadata": {},
     "output_type": "execute_result"
    },
    {
     "data": {
      "image/png": "[encoded data removed]",
      "text/plain": [
       "<Figure size 432x288 with 1 Axes>"
      ]
     },
     "metadata": {},
     "output_type": "display_data"
    }
   ],
   "source": [
    "delta = 0\n",
    "delta_max = 1\n",
    "site = np.random.randint(L)\n",
    "downward_funnel(stack,site,delta,delta_max)\n",
    "plt.bar(np.arange(L),stack,align='center')\n",
    "calculate_W(stack)"
   ]
  },
  {
   "cell_type": "code",
   "execution_count": 155,
   "metadata": {},
   "outputs": [
    {
     "data": {
      "text/plain": [
       "0.6999999999999998"
      ]
     },
     "execution_count": 155,
     "metadata": {},
     "output_type": "execute_result"
    },
    {
     "data": {
      "image/png": "[encoded data removed]",
      "text/plain": [
       "<Figure size 432x288 with 1 Axes>"
      ]
     },
     "metadata": {},
     "output_type": "display_data"
    }
   ],
   "source": [
    "delta = 0\n",
    "delta_max = 1\n",
    "site = np.random.randint(L)\n",
    "downward_funnel(stack,site,delta,delta_max)\n",
    "plt.bar(np.arange(L),stack,align='center')\n",
    "calculate_W(stack)"
   ]
  },
  {
   "cell_type": "code",
   "execution_count": 156,
   "metadata": {},
   "outputs": [
    {
     "data": {
      "text/plain": [
       "0.8717797887081349"
      ]
     },
     "execution_count": 156,
     "metadata": {},
     "output_type": "execute_result"
    },
    {
     "data": {
      "image/png": "[encoded data removed]",
      "text/plain": [
       "<Figure size 432x288 with 1 Axes>"
      ]
     },
     "metadata": {},
     "output_type": "display_data"
    }
   ],
   "source": [
    "delta = 0\n",
    "delta_max = 1\n",
    "site = np.random.randint(L)\n",
    "downward_funnel(stack,site,delta,delta_max)\n",
    "plt.bar(np.arange(L),stack,align='center')\n",
    "calculate_W(stack)"
   ]
  },
  {
   "cell_type": "code",
   "execution_count": 157,
   "metadata": {},
   "outputs": [
    {
     "data": {
      "text/plain": [
       "0.7810249675906652"
      ]
     },
     "execution_count": 157,
     "metadata": {},
     "output_type": "execute_result"
    },
    {
     "data": {
      "image/png": "[encoded data removed]",
      "text/plain": [
       "<Figure size 432x288 with 1 Axes>"
      ]
     },
     "metadata": {},
     "output_type": "display_data"
    }
   ],
   "source": [
    "delta = 0\n",
    "delta_max = 1\n",
    "site = np.random.randint(L)\n",
    "downward_funnel(stack,site,delta,delta_max)\n",
    "plt.bar(np.arange(L),stack,align='center')\n",
    "calculate_W(stack)"
   ]
  },
  {
   "cell_type": "code",
   "execution_count": 158,
   "metadata": {},
   "outputs": [
    {
     "data": {
      "text/plain": [
       "0.66332495807108"
      ]
     },
     "execution_count": 158,
     "metadata": {},
     "output_type": "execute_result"
    },
    {
     "data": {
      "image/png": "[encoded data removed]",
      "text/plain": [
       "<Figure size 432x288 with 1 Axes>"
      ]
     },
     "metadata": {},
     "output_type": "display_data"
    }
   ],
   "source": [
    "delta = 0\n",
    "delta_max = 1\n",
    "site = np.random.randint(L)\n",
    "downward_funnel(stack,site,delta,delta_max)\n",
    "plt.bar(np.arange(L),stack,align='center')\n",
    "calculate_W(stack)"
   ]
  },
  {
   "cell_type": "code",
   "execution_count": 159,
   "metadata": {},
   "outputs": [
    {
     "data": {
      "text/plain": [
       "0.670820393249937"
      ]
     },
     "execution_count": 159,
     "metadata": {},
     "output_type": "execute_result"
    },
    {
     "data": {
      "image/png": "[encoded data removed]",
      "text/plain": [
       "<Figure size 432x288 with 1 Axes>"
      ]
     },
     "metadata": {},
     "output_type": "display_data"
    }
   ],
   "source": [
    "delta = 0\n",
    "delta_max = 1\n",
    "site = np.random.randint(L)\n",
    "downward_funnel(stack,site,delta,delta_max)\n",
    "plt.bar(np.arange(L),stack,align='center')\n",
    "calculate_W(stack)"
   ]
  },
  {
   "cell_type": "code",
   "execution_count": 160,
   "metadata": {},
   "outputs": [
    {
     "data": {
      "text/plain": [
       "0.7999999999999998"
      ]
     },
     "execution_count": 160,
     "metadata": {},
     "output_type": "execute_result"
    },
    {
     "data": {
      "image/png": "[encoded data removed]",
      "text/plain": [
       "<Figure size 432x288 with 1 Axes>"
      ]
     },
     "metadata": {},
     "output_type": "display_data"
    }
   ],
   "source": [
    "delta = 0\n",
    "delta_max = 1\n",
    "site = np.random.randint(L)\n",
    "downward_funnel(stack,site,delta,delta_max)\n",
    "plt.bar(np.arange(L),stack,align='center')\n",
    "calculate_W(stack)"
   ]
  },
  {
   "cell_type": "code",
   "execution_count": 161,
   "metadata": {},
   "outputs": [
    {
     "data": {
      "text/plain": [
       "0.9000000000000002"
      ]
     },
     "execution_count": 161,
     "metadata": {},
     "output_type": "execute_result"
    },
    {
     "data": {
      "image/png": "[encoded data removed]",
      "text/plain": [
       "<Figure size 432x288 with 1 Axes>"
      ]
     },
     "metadata": {},
     "output_type": "display_data"
    }
   ],
   "source": [
    "delta = 0\n",
    "delta_max = 1\n",
    "site = np.random.randint(L)\n",
    "downward_funnel(stack,site,delta,delta_max)\n",
    "plt.bar(np.arange(L),stack,align='center')\n",
    "calculate_W(stack)"
   ]
  },
  {
   "cell_type": "code",
   "execution_count": 162,
   "metadata": {},
   "outputs": [
    {
     "data": {
      "text/plain": [
       "0.9797958971132712"
      ]
     },
     "execution_count": 162,
     "metadata": {},
     "output_type": "execute_result"
    },
    {
     "data": {
      "image/png": "[encoded data removed]",
      "text/plain": [
       "<Figure size 432x288 with 1 Axes>"
      ]
     },
     "metadata": {},
     "output_type": "display_data"
    }
   ],
   "source": [
    "delta = 0\n",
    "delta_max = 1\n",
    "site = np.random.randint(L)\n",
    "downward_funnel(stack,site,delta,delta_max)\n",
    "plt.bar(np.arange(L),stack,align='center')\n",
    "calculate_W(stack)"
   ]
  },
  {
   "cell_type": "code",
   "execution_count": 163,
   "metadata": {},
   "outputs": [
    {
     "data": {
      "text/plain": [
       "0.9433981132056605"
      ]
     },
     "execution_count": 163,
     "metadata": {},
     "output_type": "execute_result"
    },
    {
     "data": {
      "image/png": "[encoded data removed]",
      "text/plain": [
       "<Figure size 432x288 with 1 Axes>"
      ]
     },
     "metadata": {},
     "output_type": "display_data"
    }
   ],
   "source": [
    "delta = 0\n",
    "delta_max = 1\n",
    "site = np.random.randint(L)\n",
    "downward_funnel(stack,site,delta,delta_max)\n",
    "plt.bar(np.arange(L),stack,align='center')\n",
    "calculate_W(stack)"
   ]
  },
  {
   "cell_type": "code",
   "execution_count": 164,
   "metadata": {},
   "outputs": [
    {
     "data": {
      "text/plain": [
       "0.8944271909999157"
      ]
     },
     "execution_count": 164,
     "metadata": {},
     "output_type": "execute_result"
    },
    {
     "data": {
      "image/png": "[encoded data removed]",
      "text/plain": [
       "<Figure size 432x288 with 1 Axes>"
      ]
     },
     "metadata": {},
     "output_type": "display_data"
    }
   ],
   "source": [
    "delta = 0\n",
    "delta_max = 1\n",
    "site = np.random.randint(L)\n",
    "downward_funnel(stack,site,delta,delta_max)\n",
    "plt.bar(np.arange(L),stack,align='center')\n",
    "calculate_W(stack)"
   ]
  },
  {
   "cell_type": "code",
   "execution_count": 165,
   "metadata": {},
   "outputs": [
    {
     "data": {
      "text/plain": [
       "0.9433981132056602"
      ]
     },
     "execution_count": 165,
     "metadata": {},
     "output_type": "execute_result"
    },
    {
     "data": {
      "image/png": "[encoded data removed]",
      "text/plain": [
       "<Figure size 432x288 with 1 Axes>"
      ]
     },
     "metadata": {},
     "output_type": "display_data"
    }
   ],
   "source": [
    "delta = 0\n",
    "delta_max = 1\n",
    "site = np.random.randint(L)\n",
    "downward_funnel(stack,site,delta,delta_max)\n",
    "plt.bar(np.arange(L),stack,align='center')\n",
    "calculate_W(stack)"
   ]
  },
  {
   "cell_type": "code",
   "execution_count": 166,
   "metadata": {},
   "outputs": [
    {
     "data": {
      "text/plain": [
       "0.8717797887081341"
      ]
     },
     "execution_count": 166,
     "metadata": {},
     "output_type": "execute_result"
    },
    {
     "data": {
      "image/png": "[encoded data removed]",
      "text/plain": [
       "<Figure size 432x288 with 1 Axes>"
      ]
     },
     "metadata": {},
     "output_type": "display_data"
    }
   ],
   "source": [
    "delta = 0\n",
    "delta_max = 1\n",
    "site = np.random.randint(L)\n",
    "downward_funnel(stack,site,delta,delta_max)\n",
    "plt.bar(np.arange(L),stack,align='center')\n",
    "calculate_W(stack)"
   ]
  },
  {
   "cell_type": "code",
   "execution_count": 167,
   "metadata": {},
   "outputs": [
    {
     "data": {
      "text/plain": [
       "0.9000000000000002"
      ]
     },
     "execution_count": 167,
     "metadata": {},
     "output_type": "execute_result"
    },
    {
     "data": {
      "image/png": "[encoded data removed]",
      "text/plain": [
       "<Figure size 432x288 with 1 Axes>"
      ]
     },
     "metadata": {},
     "output_type": "display_data"
    }
   ],
   "source": [
    "delta = 0\n",
    "delta_max = 1\n",
    "site = np.random.randint(L)\n",
    "downward_funnel(stack,site,delta,delta_max)\n",
    "plt.bar(np.arange(L),stack,align='center')\n",
    "calculate_W(stack)"
   ]
  },
  {
   "cell_type": "code",
   "execution_count": 168,
   "metadata": {},
   "outputs": [
    {
     "data": {
      "text/plain": [
       "0.9165151389911679"
      ]
     },
     "execution_count": 168,
     "metadata": {},
     "output_type": "execute_result"
    },
    {
     "data": {
      "image/png": "[encoded data removed]",
      "text/plain": [
       "<Figure size 432x288 with 1 Axes>"
      ]
     },
     "metadata": {},
     "output_type": "display_data"
    }
   ],
   "source": [
    "delta = 0\n",
    "delta_max = 1\n",
    "site = np.random.randint(L)\n",
    "downward_funnel(stack,site,delta,delta_max)\n",
    "plt.bar(np.arange(L),stack,align='center')\n",
    "calculate_W(stack)"
   ]
  },
  {
   "cell_type": "code",
   "execution_count": 169,
   "metadata": {},
   "outputs": [
    {
     "data": {
      "text/plain": [
       "1.0246950765959597"
      ]
     },
     "execution_count": 169,
     "metadata": {},
     "output_type": "execute_result"
    },
    {
     "data": {
      "image/png": "[encoded data removed]",
      "text/plain": [
       "<Figure size 432x288 with 1 Axes>"
      ]
     },
     "metadata": {},
     "output_type": "display_data"
    }
   ],
   "source": [
    "delta = 0\n",
    "delta_max = 1\n",
    "site = np.random.randint(L)\n",
    "downward_funnel(stack,site,delta,delta_max)\n",
    "plt.bar(np.arange(L),stack,align='center')\n",
    "calculate_W(stack)"
   ]
  },
  {
   "cell_type": "code",
   "execution_count": 170,
   "metadata": {},
   "outputs": [
    {
     "data": {
      "text/plain": [
       "1.113552872566004"
      ]
     },
     "execution_count": 170,
     "metadata": {},
     "output_type": "execute_result"
    },
    {
     "data": {
      "image/png": "[encoded data removed]",
      "text/plain": [
       "<Figure size 432x288 with 1 Axes>"
      ]
     },
     "metadata": {},
     "output_type": "display_data"
    }
   ],
   "source": [
    "delta = 0\n",
    "delta_max = 1\n",
    "site = np.random.randint(L)\n",
    "downward_funnel(stack,site,delta,delta_max)\n",
    "plt.bar(np.arange(L),stack,align='center')\n",
    "calculate_W(stack)"
   ]
  },
  {
   "cell_type": "code",
   "execution_count": 171,
   "metadata": {},
   "outputs": [
    {
     "data": {
      "text/plain": [
       "1.187434208703791"
      ]
     },
     "execution_count": 171,
     "metadata": {},
     "output_type": "execute_result"
    },
    {
     "data": {
      "image/png": "[encoded data removed]",
      "text/plain": [
       "<Figure size 432x288 with 1 Axes>"
      ]
     },
     "metadata": {},
     "output_type": "display_data"
    }
   ],
   "source": [
    "delta = 0\n",
    "delta_max = 1\n",
    "site = np.random.randint(L)\n",
    "downward_funnel(stack,site,delta,delta_max)\n",
    "plt.bar(np.arange(L),stack,align='center')\n",
    "calculate_W(stack)"
   ]
  },
  {
   "cell_type": "code",
   "execution_count": 172,
   "metadata": {},
   "outputs": [
    {
     "data": {
      "text/plain": [
       "1.24899959967968"
      ]
     },
     "execution_count": 172,
     "metadata": {},
     "output_type": "execute_result"
    },
    {
     "data": {
      "image/png": "[encoded data removed]",
      "text/plain": [
       "<Figure size 432x288 with 1 Axes>"
      ]
     },
     "metadata": {},
     "output_type": "display_data"
    }
   ],
   "source": [
    "delta = 0\n",
    "delta_max = 1\n",
    "site = np.random.randint(L)\n",
    "downward_funnel(stack,site,delta,delta_max)\n",
    "plt.bar(np.arange(L),stack,align='center')\n",
    "calculate_W(stack)"
   ]
  },
  {
   "cell_type": "code",
   "execution_count": 173,
   "metadata": {},
   "outputs": [
    {
     "data": {
      "text/plain": [
       "1.1357816691600544"
      ]
     },
     "execution_count": 173,
     "metadata": {},
     "output_type": "execute_result"
    },
    {
     "data": {
      "image/png": "[encoded data removed]",
      "text/plain": [
       "<Figure size 432x288 with 1 Axes>"
      ]
     },
     "metadata": {},
     "output_type": "display_data"
    }
   ],
   "source": [
    "delta = 0\n",
    "delta_max = 1\n",
    "site = np.random.randint(L)\n",
    "downward_funnel(stack,site,delta,delta_max)\n",
    "plt.bar(np.arange(L),stack,align='center')\n",
    "calculate_W(stack)"
   ]
  },
  {
   "cell_type": "code",
   "execution_count": 174,
   "metadata": {},
   "outputs": [
    {
     "data": {
      "text/plain": [
       "1.095445115010332"
      ]
     },
     "execution_count": 174,
     "metadata": {},
     "output_type": "execute_result"
    },
    {
     "data": {
      "image/png": "[encoded data removed]",
      "text/plain": [
       "<Figure size 432x288 with 1 Axes>"
      ]
     },
     "metadata": {},
     "output_type": "display_data"
    }
   ],
   "source": [
    "delta = 0\n",
    "delta_max = 1\n",
    "site = np.random.randint(L)\n",
    "downward_funnel(stack,site,delta,delta_max)\n",
    "plt.bar(np.arange(L),stack,align='center')\n",
    "calculate_W(stack)"
   ]
  },
  {
   "cell_type": "code",
   "execution_count": 175,
   "metadata": {},
   "outputs": [
    {
     "data": {
      "text/plain": [
       "1.1357816691600544"
      ]
     },
     "execution_count": 175,
     "metadata": {},
     "output_type": "execute_result"
    },
    {
     "data": {
      "image/png": "[encoded data removed]",
      "text/plain": [
       "<Figure size 432x288 with 1 Axes>"
      ]
     },
     "metadata": {},
     "output_type": "display_data"
    }
   ],
   "source": [
    "delta = 0\n",
    "delta_max = 1\n",
    "site = np.random.randint(L)\n",
    "downward_funnel(stack,site,delta,delta_max)\n",
    "plt.bar(np.arange(L),stack,align='center')\n",
    "calculate_W(stack)"
   ]
  },
  {
   "cell_type": "code",
   "execution_count": 176,
   "metadata": {},
   "outputs": [
    {
     "data": {
      "text/plain": [
       "0.9797958971132699"
      ]
     },
     "execution_count": 176,
     "metadata": {},
     "output_type": "execute_result"
    },
    {
     "data": {
      "image/png": "[encoded data removed]",
      "text/plain": [
       "<Figure size 432x288 with 1 Axes>"
      ]
     },
     "metadata": {},
     "output_type": "display_data"
    }
   ],
   "source": [
    "delta = 0\n",
    "delta_max = 1\n",
    "site = np.random.randint(L)\n",
    "downward_funnel(stack,site,delta,delta_max)\n",
    "plt.bar(np.arange(L),stack,align='center')\n",
    "calculate_W(stack)"
   ]
  },
  {
   "cell_type": "code",
   "execution_count": 177,
   "metadata": {},
   "outputs": [
    {
     "data": {
      "text/plain": [
       "1.0049875621120898"
      ]
     },
     "execution_count": 177,
     "metadata": {},
     "output_type": "execute_result"
    },
    {
     "data": {
      "image/png": "[encoded data removed]",
      "text/plain": [
       "<Figure size 432x288 with 1 Axes>"
      ]
     },
     "metadata": {},
     "output_type": "display_data"
    }
   ],
   "source": [
    "delta = 0\n",
    "delta_max = 1\n",
    "site = np.random.randint(L)\n",
    "downward_funnel(stack,site,delta,delta_max)\n",
    "plt.bar(np.arange(L),stack,align='center')\n",
    "calculate_W(stack)"
   ]
  },
  {
   "cell_type": "code",
   "execution_count": 178,
   "metadata": {},
   "outputs": [
    {
     "data": {
      "text/plain": [
       "1.0198039027185575"
      ]
     },
     "execution_count": 178,
     "metadata": {},
     "output_type": "execute_result"
    },
    {
     "data": {
      "image/png": "[encoded data removed]",
      "text/plain": [
       "<Figure size 432x288 with 1 Axes>"
      ]
     },
     "metadata": {},
     "output_type": "display_data"
    }
   ],
   "source": [
    "delta = 0\n",
    "delta_max = 1\n",
    "site = np.random.randint(L)\n",
    "downward_funnel(stack,site,delta,delta_max)\n",
    "plt.bar(np.arange(L),stack,align='center')\n",
    "calculate_W(stack)"
   ]
  },
  {
   "cell_type": "code",
   "execution_count": 179,
   "metadata": {},
   "outputs": [
    {
     "data": {
      "text/plain": [
       "1.118033988749895"
      ]
     },
     "execution_count": 179,
     "metadata": {},
     "output_type": "execute_result"
    },
    {
     "data": {
      "image/png": "[encoded data removed]",
      "text/plain": [
       "<Figure size 432x288 with 1 Axes>"
      ]
     },
     "metadata": {},
     "output_type": "display_data"
    }
   ],
   "source": [
    "delta = 0\n",
    "delta_max = 1\n",
    "site = np.random.randint(L)\n",
    "downward_funnel(stack,site,delta,delta_max)\n",
    "plt.bar(np.arange(L),stack,align='center')\n",
    "calculate_W(stack)"
   ]
  },
  {
   "cell_type": "code",
   "execution_count": 180,
   "metadata": {},
   "outputs": [
    {
     "data": {
      "text/plain": [
       "1.1135528725660038"
      ]
     },
     "execution_count": 180,
     "metadata": {},
     "output_type": "execute_result"
    },
    {
     "data": {
      "image/png": "[encoded data removed]",
      "text/plain": [
       "<Figure size 432x288 with 1 Axes>"
      ]
     },
     "metadata": {},
     "output_type": "display_data"
    }
   ],
   "source": [
    "delta = 0\n",
    "delta_max = 1\n",
    "site = np.random.randint(L)\n",
    "downward_funnel(stack,site,delta,delta_max)\n",
    "plt.bar(np.arange(L),stack,align='center')\n",
    "calculate_W(stack)"
   ]
  },
  {
   "cell_type": "code",
   "execution_count": 181,
   "metadata": {},
   "outputs": [
    {
     "data": {
      "text/plain": [
       "1.187434208703791"
      ]
     },
     "execution_count": 181,
     "metadata": {},
     "output_type": "execute_result"
    },
    {
     "data": {
      "image/png": "[encoded data removed]",
      "text/plain": [
       "<Figure size 432x288 with 1 Axes>"
      ]
     },
     "metadata": {},
     "output_type": "display_data"
    }
   ],
   "source": [
    "delta = 0\n",
    "delta_max = 1\n",
    "site = np.random.randint(L)\n",
    "downward_funnel(stack,site,delta,delta_max)\n",
    "plt.bar(np.arange(L),stack,align='center')\n",
    "calculate_W(stack)"
   ]
  },
  {
   "cell_type": "code",
   "execution_count": 182,
   "metadata": {},
   "outputs": [
    {
     "data": {
      "text/plain": [
       "1.077032961426901"
      ]
     },
     "execution_count": 182,
     "metadata": {},
     "output_type": "execute_result"
    },
    {
     "data": {
      "image/png": "[encoded data removed]",
      "text/plain": [
       "<Figure size 432x288 with 1 Axes>"
      ]
     },
     "metadata": {},
     "output_type": "display_data"
    }
   ],
   "source": [
    "delta = 0\n",
    "delta_max = 1\n",
    "site = np.random.randint(L)\n",
    "downward_funnel(stack,site,delta,delta_max)\n",
    "plt.bar(np.arange(L),stack,align='center')\n",
    "calculate_W(stack)"
   ]
  },
  {
   "cell_type": "code",
   "execution_count": 183,
   "metadata": {},
   "outputs": [
    {
     "data": {
      "text/plain": [
       "1.135781669160055"
      ]
     },
     "execution_count": 183,
     "metadata": {},
     "output_type": "execute_result"
    },
    {
     "data": {
      "image/png": "[encoded data removed]",
      "text/plain": [
       "<Figure size 432x288 with 1 Axes>"
      ]
     },
     "metadata": {},
     "output_type": "display_data"
    }
   ],
   "source": [
    "delta = 0\n",
    "delta_max = 1\n",
    "site = np.random.randint(L)\n",
    "downward_funnel(stack,site,delta,delta_max)\n",
    "plt.bar(np.arange(L),stack,align='center')\n",
    "calculate_W(stack)"
   ]
  },
  {
   "cell_type": "code",
   "execution_count": 184,
   "metadata": {},
   "outputs": [
    {
     "data": {
      "text/plain": [
       "1.1832159566199225"
      ]
     },
     "execution_count": 184,
     "metadata": {},
     "output_type": "execute_result"
    },
    {
     "data": {
      "image/png": "[encoded data removed]",
      "text/plain": [
       "<Figure size 432x288 with 1 Axes>"
      ]
     },
     "metadata": {},
     "output_type": "display_data"
    }
   ],
   "source": [
    "delta = 0\n",
    "delta_max = 1\n",
    "site = np.random.randint(L)\n",
    "downward_funnel(stack,site,delta,delta_max)\n",
    "plt.bar(np.arange(L),stack,align='center')\n",
    "calculate_W(stack)"
   ]
  },
  {
   "cell_type": "code",
   "execution_count": null,
   "metadata": {},
   "outputs": [],
   "source": []
  },
  {
   "cell_type": "code",
   "execution_count": null,
   "metadata": {},
   "outputs": [],
   "source": []
  },
  {
   "cell_type": "code",
   "execution_count": null,
   "metadata": {},
   "outputs": [],
   "source": []
  },
  {
   "cell_type": "code",
   "execution_count": null,
   "metadata": {},
   "outputs": [],
   "source": []
  },
  {
   "cell_type": "code",
   "execution_count": null,
   "metadata": {},
   "outputs": [],
   "source": []
  },
  {
   "cell_type": "code",
   "execution_count": null,
   "metadata": {},
   "outputs": [],
   "source": []
  },
  {
   "cell_type": "code",
   "execution_count": null,
   "metadata": {},
   "outputs": [],
   "source": []
  },
  {
   "cell_type": "code",
   "execution_count": null,
   "metadata": {},
   "outputs": [],
   "source": []
  },
  {
   "cell_type": "code",
   "execution_count": null,
   "metadata": {},
   "outputs": [],
   "source": []
  },
  {
   "cell_type": "code",
   "execution_count": null,
   "metadata": {},
   "outputs": [],
   "source": []
  },
  {
   "cell_type": "code",
   "execution_count": null,
   "metadata": {},
   "outputs": [],
   "source": []
  },
  {
   "cell_type": "code",
   "execution_count": null,
   "metadata": {},
   "outputs": [],
   "source": []
  },
  {
   "cell_type": "code",
   "execution_count": null,
   "metadata": {},
   "outputs": [],
   "source": []
  },
  {
   "cell_type": "code",
   "execution_count": 125,
   "metadata": {},
   "outputs": [],
   "source": [
    "W25"
   ]
  },
  {
   "cell_type": "code",
   "execution_count": 134,
   "metadata": {},
   "outputs": [],
   "source": [
    "L = 100\n",
    "num_iterations = 10000\n",
    "num_experiments = 100\n",
    "delta_max = 1\n",
    "W = np.zeros((num_experiments,num_iterations))"
   ]
  },
  {
   "cell_type": "code",
   "execution_count": 135,
   "metadata": {},
   "outputs": [],
   "source": [
    "for experiment in range(num_experiments):\n",
    "    stack = np.zeros(L)\n",
    "    for i in range(num_iterations):\n",
    "        delta = 0\n",
    "        site = np.random.randint(L)\n",
    "        downward_funnel(stack,site,delta,delta_max)\n",
    "        W[experiment,i] = calculate_W(stack)"
   ]
  },
  {
   "cell_type": "code",
   "execution_count": 136,
   "metadata": {},
   "outputs": [],
   "source": [
    "W100 = W"
   ]
  },
  {
   "cell_type": "code",
   "execution_count": 139,
   "metadata": {},
   "outputs": [
    {
     "data": {
      "text/plain": [
       "(1, 1000000)"
      ]
     },
     "execution_count": 139,
     "metadata": {},
     "output_type": "execute_result"
    },
    {
     "data": {
      "image/png": "[encoded data removed]",
      "text/plain": [
       "<Figure size 432x288 with 1 Axes>"
      ]
     },
     "metadata": {},
     "output_type": "display_data"
    }
   ],
   "source": [
    "plt.loglog(np.mean(W25,axis=0))\n",
    "plt.loglog(np.mean(W50,axis=0))\n",
    "plt.loglog(np.mean(W100,axis=0))\n",
    "plt.xlim([10**0,10**6])"
   ]
  },
  {
   "cell_type": "code",
   "execution_count": null,
   "metadata": {},
   "outputs": [],
   "source": []
  }
 ],
 "metadata": {
  "kernelspec": {
   "display_name": "Python [default]",
   "language": "python",
   "name": "python2"
  },
  "language_info": {
   "codemirror_mode": {
    "name": "ipython",
    "version": 2
   },
   "file_extension": ".py",
   "mimetype": "text/x-python",
   "name": "python",
   "nbconvert_exporter": "python",
   "pygments_lexer": "ipython2",
   "version": "2.7.14"
  }
 },
 "nbformat": 4,
 "nbformat_minor": 2
}
