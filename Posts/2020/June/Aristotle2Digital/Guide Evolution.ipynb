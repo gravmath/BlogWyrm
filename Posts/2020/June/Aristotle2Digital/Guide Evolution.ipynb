{
 "cells": [
  {
   "cell_type": "code",
   "execution_count": 1,
   "metadata": {},
   "outputs": [],
   "source": [
    "import random"
   ]
  },
  {
   "cell_type": "code",
   "execution_count": 2,
   "metadata": {},
   "outputs": [],
   "source": [
    "def init_sim(target_str,num_kids,mut_rate,num_gens,alphabet):\n",
    "    num_char = len(target_str)\n",
    "    parent   = ''.join([random.choice(alphabet) for i in range(num_char)])\n",
    "    return {'target_str' :target_str, \n",
    "            'num_kids'   :num_kids, \n",
    "            'mut_rate'   :mut_rate, \n",
    "            'num_gens'   :num_gens, \n",
    "            'alphabet'   :alphabet,\n",
    "            'parent'     :parent,\n",
    "            'brood_lst'  :[],\n",
    "            'best_score' : -1,\n",
    "            'best_index' : -1} "
   ]
  },
  {
   "cell_type": "code",
   "execution_count": 3,
   "metadata": {},
   "outputs": [],
   "source": [
    "def mutate_kid(sim_parms):\n",
    "    kid_lst = list(sim_parms['parent'])\n",
    "    len_kid = len(kid_lst)\n",
    "    for index in range(len_kid):\n",
    "        if random.random() <= sim_parms['mut_rate']:\n",
    "            letter = random.choice(sim_parms['alphabet'])\n",
    "            kid_lst[index] = letter \n",
    "    return ''.join(kid_lst)"
   ]
  },
  {
   "cell_type": "code",
   "execution_count": 4,
   "metadata": {},
   "outputs": [],
   "source": [
    "def score_a_kid(sim_parms,kid):\n",
    "    kid_lst = list(kid)\n",
    "    score   = 0\n",
    "    for letter, targ_letter in zip(kid_lst,sim_parms['target_str']):\n",
    "        if letter == targ_letter:\n",
    "            score += 1\n",
    "    return score"
   ]
  },
  {
   "cell_type": "code",
   "execution_count": 5,
   "metadata": {},
   "outputs": [],
   "source": [
    "def breed_a_brood(sim_parms):\n",
    "    brood_lst = []\n",
    "    for k in range(sim_parms['num_kids']):\n",
    "        brood_lst.append(mutate_kid(sim_parms))\n",
    "    sim_parms['brood_lst'] = brood_lst"
   ]
  },
  {
   "cell_type": "code",
   "execution_count": 6,
   "metadata": {},
   "outputs": [],
   "source": [
    "def score_a_brood(sim_parms):\n",
    "    best_score   = -1\n",
    "    best_index   = -1\n",
    "    counter      =  0 \n",
    "    for kid in sim_parms['brood_lst']:\n",
    "        kid_score = score_a_kid(sim_parms,kid)\n",
    "        if kid_score > best_score:\n",
    "            best_score = kid_score\n",
    "            best_index = counter\n",
    "        counter += 1\n",
    "    sim_parms['best_score'] = best_score\n",
    "    sim_parms['best_index'] = best_index"
   ]
  },
  {
   "cell_type": "code",
   "execution_count": 45,
   "metadata": {},
   "outputs": [],
   "source": [
    "def evolve_brood(sim_parms):\n",
    "    highest_score = len(sim_parms['target_str'])\n",
    "    print('start:\\t',sim_parms['parent'])\n",
    "    for i in range(sim_parms['num_gens']):\n",
    "        breed_a_brood(sim_parms)\n",
    "        score_a_brood(sim_parms)\n",
    "        sim_parms['parent'] =  sim_parms['brood_lst'][sim_parms['best_index']]\n",
    "        print(i+1,'\\t',sim_parms['parent'],'\\t',sim_parms['best_score'])\n",
    "        if sim_parms['best_score'] == highest_score:\n",
    "            break\n",
    "    if sim_parms['best_score'] < highest_score:\n",
    "        print('I give up on this evolution thing!')"
   ]
  },
  {
   "cell_type": "code",
   "execution_count": 114,
   "metadata": {},
   "outputs": [],
   "source": [
    "target_str = 'Hello World! \\''\n",
    "target_str = 'Dude! Where\\'s my car?'\n",
    "target_str = 'Logical Positivism is based on flimsy reasoning!'\n",
    "target_str = 'Bubble Tea is life!!!'\n",
    "#target_str = 'Space Mission Engineering: The New SMAD'\n",
    "num_kids        = 5000\n",
    "mut_rate        = 0.09\n",
    "num_gens        = 100\n",
    "real_alphabet   = \" ABCDEFGHIJKLMNOPQRSTUVWXYZabcdefghijklmnopqrstuvwxyz,.!?:;'\"\n",
    "simp_alphabet   = ' ABCDEFGHIJKLMNOPQRSTUVWXYZ'\n",
    "sim_parms  = init_sim(target_str,num_kids,mut_rate,num_gens,real_alphabet)"
   ]
  },
  {
   "cell_type": "code",
   "execution_count": 115,
   "metadata": {},
   "outputs": [
    {
     "name": "stdout",
     "output_type": "stream",
     "text": [
      "{'target_str': 'Bubble Tea is life!!!', 'num_kids': 5000, 'mut_rate': 0.09, 'num_gens': 100, 'alphabet': \" ABCDEFGHIJKLMNOPQRSTUVWXYZabcdefghijklmnopqrstuvwxyz,.!?:;'\", 'parent': 'cUyL.EWj,mmLWsZXMp,M ', 'brood_lst': [], 'best_score': -1, 'best_index': -1}\n"
     ]
    }
   ],
   "source": [
    "print(sim_parms)"
   ]
  },
  {
   "cell_type": "code",
   "execution_count": 116,
   "metadata": {},
   "outputs": [
    {
     "name": "stdout",
     "output_type": "stream",
     "text": [
      "start:\t cUyL.EWj,mmLWsZXMp,M \n",
      "1 \t cUyL.eWj,mmLWslXMp,f  \t 2\n",
      "2 \t cTvLleWjhpXLWslzMp,!  \t 4\n",
      "3 \t BToLleWjhpXL?slzfp,!  \t 6\n",
      "4 \t BuoLleWjhpXL?slifp,!  \t 8\n",
      "5 \t BubLleWjhaXL?slifp,!  \t 10\n",
      "6 \t BubLle jhaXLsslifp,!  \t 12\n",
      "7 \t BubLle jhaXisslifs,!  \t 13\n",
      "8 \t BubLle jhaXisslifs,!! \t 14\n",
      "9 \t BubLle jla is,lifs,!! \t 15\n",
      "10 \t BubLle jla is,life,!! \t 16\n",
      "11 \t Bubkle Tla is,life,!! \t 17\n",
      "12 \t Bubkle Tea is,life,!! \t 18\n",
      "13 \t Bubkle Tea is life,!! \t 19\n",
      "14 \t Bubkle Tea is life!!! \t 20\n",
      "15 \t Bubble Tea is life!!! \t 21\n"
     ]
    }
   ],
   "source": [
    "evolve_brood(sim_parms)"
   ]
  },
  {
   "cell_type": "code",
   "execution_count": 112,
   "metadata": {},
   "outputs": [
    {
     "data": {
      "text/plain": [
       "60"
      ]
     },
     "execution_count": 112,
     "metadata": {},
     "output_type": "execute_result"
    }
   ],
   "source": [
    "len(real_alphabet)"
   ]
  },
  {
   "cell_type": "code",
   "execution_count": 113,
   "metadata": {},
   "outputs": [
    {
     "data": {
      "text/plain": [
       "27"
      ]
     },
     "execution_count": 113,
     "metadata": {},
     "output_type": "execute_result"
    }
   ],
   "source": [
    "len(simp_alphabet)"
   ]
  },
  {
   "cell_type": "code",
   "execution_count": null,
   "metadata": {},
   "outputs": [],
   "source": []
  }
 ],
 "metadata": {
  "kernelspec": {
   "display_name": "Python 3",
   "language": "python",
   "name": "python3"
  },
  "language_info": {
   "codemirror_mode": {
    "name": "ipython",
    "version": 3
   },
   "file_extension": ".py",
   "mimetype": "text/x-python",
   "name": "python",
   "nbconvert_exporter": "python",
   "pygments_lexer": "ipython3",
   "version": "3.7.4"
  }
 },
 "nbformat": 4,
 "nbformat_minor": 4
}
