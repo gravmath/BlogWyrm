{
 "cells": [
  {
   "cell_type": "code",
   "execution_count": 36,
   "metadata": {},
   "outputs": [],
   "source": [
    "import matplotlib as mpl\n",
    "import matplotlib.pyplot as plt\n",
    "import numpy  as np\n",
    "import pandas as pd\n",
    "import scipy  as sp\n",
    "import sys"
   ]
  },
  {
   "cell_type": "code",
   "execution_count": 2,
   "metadata": {},
   "outputs": [],
   "source": [
    "sys.path.append('../../../../../Projects/Python/AI Techniques/NaiveBayesian/')"
   ]
  },
  {
   "cell_type": "code",
   "execution_count": 3,
   "metadata": {},
   "outputs": [],
   "source": [
    "import Naive_Bayesian_Classification as nbc"
   ]
  },
  {
   "cell_type": "code",
   "execution_count": 4,
   "metadata": {},
   "outputs": [],
   "source": [
    "path = 'c:/Users/byecs/Documents/GitHub/BlogWyrm/Posts/2020/July/Aristotle2Digital/'\n",
    "fn   = 'Gemstone Data.txt'\n",
    "attributes = ['color','scale','shape']\n",
    "df   = pd.read_csv(path+fn,names=attributes+['authenticity'])"
   ]
  },
  {
   "cell_type": "code",
   "execution_count": 5,
   "metadata": {},
   "outputs": [],
   "source": [
    "distinct_values     = nbc.find_distinct_values(df,attributes)\n",
    "smoothed_marginals  = nbc.calculate_Laplace_smoothed_marginals(df,distinct_values)\n",
    "summary             = nbc.characterize_data_set(df)"
   ]
  },
  {
   "cell_type": "code",
   "execution_count": 6,
   "metadata": {},
   "outputs": [
    {
     "data": {
      "text/plain": [
       "array([ 1,  2,  4,  6, 10, 15, 17, 20, 21, 22, 23, 24, 26, 27, 28, 29, 30,\n",
       "       31, 32, 33, 34, 36, 38, 39], dtype=int64)"
      ]
     },
     "execution_count": 6,
     "metadata": {},
     "output_type": "execute_result"
    }
   ],
   "source": [
    "np.where(df['authenticity']==0)[0]"
   ]
  },
  {
   "cell_type": "code",
   "execution_count": 7,
   "metadata": {},
   "outputs": [
    {
     "data": {
      "text/plain": [
       "(0.3854670113521412, 0.6145329886478589)"
      ]
     },
     "execution_count": 7,
     "metadata": {},
     "output_type": "execute_result"
    }
   ],
   "source": [
    "sample = ['Cyan','Small','Twisted']\n",
    "nbc.calculate_evidence(distinct_values,smoothed_marginals,summary,sample)"
   ]
  },
  {
   "cell_type": "code",
   "execution_count": 8,
   "metadata": {
    "scrolled": true
   },
   "outputs": [],
   "source": [
    "#Prepare the probabilities\n",
    "Probs = {}\n",
    "for attribute in distinct_values:\n",
    "    attribute_value_count = df[attribute].value_counts()\n",
    "    Probs[attribute] = {}\n",
    "    for value in distinct_values[attribute]:\n",
    "        Probs[attribute][value] = attribute_value_count[value]/summary['num samples']\n",
    "        \n",
    "Cum_Probs = {}\n",
    "for attribute in sorted(distinct_values):\n",
    "    Cum_Probs[attribute] = {}\n",
    "    for value in sorted(distinct_values[attribute]):\n",
    "        Cum_Probs[attribute][value] = 0\n",
    "for attribute in sorted(distinct_values):\n",
    "    for value in sorted(distinct_values[attribute]):\n",
    "        for second_value in sorted(distinct_values[attribute]):\n",
    "            if second_value <= value:\n",
    "                Cum_Probs[attribute][value] += Probs[attribute][second_value]\n",
    "\n",
    "a_probs = [0.91,0.20,0.79,0.14,0.77,0.34,0.35,0.44,0.49,0.71,0.75,0.33,0.53,0.24,0.86,0.42,0.26,0.96,0.92,0.58,0.18,0.58,0.06,0.08]\n",
    "authenticity_probs = {}\n",
    "N = 0\n",
    "for color in distinct_values['color']:\n",
    "    for scale in distinct_values['scale']:\n",
    "        for shape in distinct_values['shape']:\n",
    "            key  = '{}-{}-{}'.format(color,scale,shape)\n",
    "#            prob = np.random.random() \n",
    "#            authenticity_probs[key] = float('{:0.2f}'.format(prob))\n",
    "            authenticity_probs[key] = a_probs[N]\n",
    "            N += 1"
   ]
  },
  {
   "cell_type": "code",
   "execution_count": 9,
   "metadata": {},
   "outputs": [
    {
     "name": "stdout",
     "output_type": "stream",
     "text": [
      "{'color': {'Blue': 0.125, 'Aqua': 0.225, 'Dune': 0.5, 'Cyan': 0.15}, 'scale': {'Small': 0.775, 'Large': 0.225}, 'shape': {'Rounded': 0.675, 'Twisted': 0.15, 'Pointed': 0.175}}\n",
      "\n",
      "{'color': {'Aqua': 0.225, 'Blue': 0.35, 'Cyan': 0.5, 'Dune': 1.0}, 'scale': {'Large': 0.225, 'Small': 1.0}, 'shape': {'Pointed': 0.175, 'Rounded': 0.8500000000000001, 'Twisted': 1.0}}\n",
      "\n",
      "{'Blue-Small-Rounded': 0.91, 'Blue-Small-Twisted': 0.2, 'Blue-Small-Pointed': 0.79, 'Blue-Large-Rounded': 0.14, 'Blue-Large-Twisted': 0.77, 'Blue-Large-Pointed': 0.34, 'Aqua-Small-Rounded': 0.35, 'Aqua-Small-Twisted': 0.44, 'Aqua-Small-Pointed': 0.49, 'Aqua-Large-Rounded': 0.71, 'Aqua-Large-Twisted': 0.75, 'Aqua-Large-Pointed': 0.33, 'Dune-Small-Rounded': 0.53, 'Dune-Small-Twisted': 0.24, 'Dune-Small-Pointed': 0.86, 'Dune-Large-Rounded': 0.42, 'Dune-Large-Twisted': 0.26, 'Dune-Large-Pointed': 0.96, 'Cyan-Small-Rounded': 0.92, 'Cyan-Small-Twisted': 0.58, 'Cyan-Small-Pointed': 0.18, 'Cyan-Large-Rounded': 0.58, 'Cyan-Large-Twisted': 0.06, 'Cyan-Large-Pointed': 0.08}\n"
     ]
    }
   ],
   "source": [
    "print(Probs)\n",
    "print()\n",
    "print(Cum_Probs)\n",
    "print()\n",
    "print(authenticity_probs)"
   ]
  },
  {
   "cell_type": "code",
   "execution_count": 10,
   "metadata": {},
   "outputs": [
    {
     "name": "stdout",
     "output_type": "stream",
     "text": [
      "Blue Small Rounded 0.06539062500000001\n",
      "Blue Small Twisted 0.014531249999999999\n",
      "Blue Small Pointed 0.016953125\n",
      "Blue Large Rounded 0.018984375\n",
      "Blue Large Twisted 0.00421875\n",
      "Blue Large Pointed 0.004921875\n",
      "Aqua Small Rounded 0.117703125\n",
      "Aqua Small Twisted 0.02615625\n",
      "Aqua Small Pointed 0.030515624999999998\n",
      "Aqua Large Rounded 0.034171875000000004\n",
      "Aqua Large Twisted 0.00759375\n",
      "Aqua Large Pointed 0.008859375\n",
      "Dune Small Rounded 0.26156250000000003\n",
      "Dune Small Twisted 0.058124999999999996\n",
      "Dune Small Pointed 0.0678125\n",
      "Dune Large Rounded 0.0759375\n",
      "Dune Large Twisted 0.016875\n",
      "Dune Large Pointed 0.0196875\n",
      "Cyan Small Rounded 0.07846875\n",
      "Cyan Small Twisted 0.017437499999999998\n",
      "Cyan Small Pointed 0.020343749999999997\n",
      "Cyan Large Rounded 0.022781250000000003\n",
      "Cyan Large Twisted 0.0050625\n",
      "Cyan Large Pointed 0.00590625\n"
     ]
    }
   ],
   "source": [
    "for color in distinct_values['color']:\n",
    "    for scale in distinct_values['scale']:\n",
    "        for shape in distinct_values['shape']:\n",
    "            print(color,scale,shape,Probs['color'][color]*Probs['scale'][scale]*Probs['shape'][shape])"
   ]
  },
  {
   "cell_type": "code",
   "execution_count": 11,
   "metadata": {},
   "outputs": [],
   "source": [
    "def gem_factory(distinct_values,Cum_Probs):\n",
    "    import numpy as np\n",
    "\n",
    "    sample_list = []\n",
    "    for attribute in sorted(distinct_values):\n",
    "        rand_num = np.random.random()\n",
    "        flag     = 0\n",
    "        for value in sorted(distinct_values[attribute]):\n",
    "            if rand_num <= Cum_Probs[attribute][value] and flag == 0:\n",
    "                sample_list.append(value)\n",
    "                flag = 1\n",
    "\n",
    "    return sample_list"
   ]
  },
  {
   "cell_type": "code",
   "execution_count": 12,
   "metadata": {},
   "outputs": [],
   "source": [
    "def create_gem_dataset(N,distinct_values,Cum_Probs,authenticity_Probs,fn):\n",
    "    fh = open(fn,\"w\")\n",
    "    for n in range(N):\n",
    "        sample_list = gem_factory(distinct_values,Cum_Probs)\n",
    "        key         = sample_list[0]+'-'+sample_list[1]+'-'+sample_list[2]\n",
    "        if authenticity_Probs[key] < np.random.random():\n",
    "            fh.write(sample_list[0]+','+sample_list[1]+','+sample_list[2]+','+'0\\n')\n",
    "        else:\n",
    "            fh.write(sample_list[0]+','+sample_list[1]+','+sample_list[2]+','+'1\\n')\n",
    "    fh.close()    "
   ]
  },
  {
   "cell_type": "code",
   "execution_count": 63,
   "metadata": {},
   "outputs": [],
   "source": [
    "num_samples = 40000\n",
    "create_gem_dataset(num_samples,distinct_values,Cum_Probs,authenticity_probs,path+'Gemstone_2000_Dataset.txt')"
   ]
  },
  {
   "cell_type": "code",
   "execution_count": 64,
   "metadata": {},
   "outputs": [],
   "source": [
    "path = 'c:/Users/byecs/Documents/GitHub/BlogWyrm/Posts/2020/July/Aristotle2Digital/'\n",
    "fn   = 'Gemstone_2000_Dataset.txt'\n",
    "attributes = ['color','scale','shape']\n",
    "df_temp    = pd.read_csv(path+fn,names=attributes+['authenticity'])"
   ]
  },
  {
   "cell_type": "code",
   "execution_count": 65,
   "metadata": {},
   "outputs": [],
   "source": [
    "distinct_values_temp     = nbc.find_distinct_values(df_temp,attributes)\n",
    "smoothed_marginals_temp  = nbc.calculate_Laplace_smoothed_marginals(df_temp,distinct_values_temp)\n",
    "summary_temp             = nbc.characterize_data_set(df_temp)\n",
    "Probs_temp               = {}\n",
    "for attribute in distinct_values_temp:\n",
    "    attribute_value_count = df_temp[attribute].value_counts()\n",
    "    Probs_temp[attribute] = {}\n",
    "    for value in distinct_values[attribute]:\n",
    "        Probs_temp[attribute][value] = attribute_value_count[value]/summary_temp['num samples']"
   ]
  },
  {
   "cell_type": "code",
   "execution_count": 66,
   "metadata": {},
   "outputs": [
    {
     "name": "stdout",
     "output_type": "stream",
     "text": [
      "{'color': {'Blue': 0.125, 'Aqua': 0.225, 'Dune': 0.5, 'Cyan': 0.15}, 'scale': {'Small': 0.775, 'Large': 0.225}, 'shape': {'Rounded': 0.675, 'Twisted': 0.15, 'Pointed': 0.175}}\n",
      "\n",
      "{'color': {'Blue': 0.125075, 'Aqua': 0.227975, 'Dune': 0.494225, 'Cyan': 0.152725}, 'scale': {'Small': 0.7757, 'Large': 0.2243}, 'shape': {'Rounded': 0.6754, 'Twisted': 0.1513, 'Pointed': 0.1733}}\n"
     ]
    }
   ],
   "source": [
    "print(Probs)\n",
    "print()\n",
    "print(Probs_temp)"
   ]
  },
  {
   "cell_type": "code",
   "execution_count": 67,
   "metadata": {},
   "outputs": [
    {
     "data": {
      "text/plain": [
       "(0.3014559788620652, 0.6985440211379348)"
      ]
     },
     "execution_count": 67,
     "metadata": {},
     "output_type": "execute_result"
    }
   ],
   "source": [
    "sample = ['Cyan','Large','Pointed']\n",
    "nbc.calculate_evidence(distinct_values_temp,smoothed_marginals_temp,summary_temp,sample)"
   ]
  },
  {
   "cell_type": "code",
   "execution_count": 68,
   "metadata": {},
   "outputs": [
    {
     "data": {
      "text/plain": [
       "{'Blue-Small-Rounded': 0.91,\n",
       " 'Blue-Small-Twisted': 0.2,\n",
       " 'Blue-Small-Pointed': 0.79,\n",
       " 'Blue-Large-Rounded': 0.14,\n",
       " 'Blue-Large-Twisted': 0.77,\n",
       " 'Blue-Large-Pointed': 0.34,\n",
       " 'Aqua-Small-Rounded': 0.35,\n",
       " 'Aqua-Small-Twisted': 0.44,\n",
       " 'Aqua-Small-Pointed': 0.49,\n",
       " 'Aqua-Large-Rounded': 0.71,\n",
       " 'Aqua-Large-Twisted': 0.75,\n",
       " 'Aqua-Large-Pointed': 0.33,\n",
       " 'Dune-Small-Rounded': 0.53,\n",
       " 'Dune-Small-Twisted': 0.24,\n",
       " 'Dune-Small-Pointed': 0.86,\n",
       " 'Dune-Large-Rounded': 0.42,\n",
       " 'Dune-Large-Twisted': 0.26,\n",
       " 'Dune-Large-Pointed': 0.96,\n",
       " 'Cyan-Small-Rounded': 0.92,\n",
       " 'Cyan-Small-Twisted': 0.58,\n",
       " 'Cyan-Small-Pointed': 0.18,\n",
       " 'Cyan-Large-Rounded': 0.58,\n",
       " 'Cyan-Large-Twisted': 0.06,\n",
       " 'Cyan-Large-Pointed': 0.08}"
      ]
     },
     "execution_count": 68,
     "metadata": {},
     "output_type": "execute_result"
    }
   ],
   "source": [
    "authenticity_probs"
   ]
  },
  {
   "cell_type": "code",
   "execution_count": 69,
   "metadata": {},
   "outputs": [
    {
     "data": {
      "text/plain": [
       "{'Blue': array([1619, 3386]),\n",
       " 'Aqua': array([5045, 4076]),\n",
       " 'Dune': array([ 9277, 10494]),\n",
       " 'Cyan': array([2017, 4094]),\n",
       " 'Small': array([13327, 17703]),\n",
       " 'Large': array([4629, 4345]),\n",
       " 'Twisted': array([3979, 2075]),\n",
       " 'Pointed': array([2447, 4487]),\n",
       " 'Rounded': array([11531, 15487])}"
      ]
     },
     "execution_count": 69,
     "metadata": {},
     "output_type": "execute_result"
    }
   ],
   "source": [
    "smoothed_marginals_temp"
   ]
  },
  {
   "cell_type": "code",
   "execution_count": 70,
   "metadata": {},
   "outputs": [
    {
     "name": "stdout",
     "output_type": "stream",
     "text": [
      "['Blue', 'Small', 'Rounded'] \t 0.287777836663437\n",
      "['Blue', 'Small', 'Twisted'] \t 0.5099562266330332\n",
      "['Blue', 'Small', 'Pointed'] \t 0.2283659983047254\n",
      "['Blue', 'Large', 'Rounded'] \t 0.3637918467163922\n",
      "['Blue', 'Large', 'Twisted'] \t 0.5955813392320256\n",
      "['Blue', 'Large', 'Pointed'] \t 0.29519113694743765\n",
      "['Aqua', 'Small', 'Rounded'] \t 0.511228371804439\n",
      "['Aqua', 'Small', 'Twisted'] \t 0.7292759821104914\n",
      "['Aqua', 'Small', 'Pointed'] \t 0.4337816212258303\n",
      "['Aqua', 'Large', 'Rounded'] \t 0.5968069481372459\n",
      "['Aqua', 'Large', 'Twisted'] \t 0.7921953379142105\n",
      "['Aqua', 'Large', 'Pointed'] \t 0.520193651230946\n",
      "['Dune', 'Small', 'Rounded'] \t 0.4276058553696111\n",
      "['Dune', 'Small', 'Twisted'] \t 0.6580025067944931\n",
      "['Dune', 'Small', 'Pointed'] \t 0.3536609360552197\n",
      "['Dune', 'Large', 'Rounded'] \t 0.5139042197433545\n",
      "['Dune', 'Large', 'Twisted'] \t 0.7313853206335408\n",
      "['Dune', 'Large', 'Pointed'] \t 0.43641404581933946\n",
      "['Cyan', 'Small', 'Rounded'] \t 0.2939509639351995\n",
      "['Cyan', 'Small', 'Twisted'] \t 0.5174328190250163\n",
      "['Cyan', 'Small', 'Pointed'] \t 0.2336828313159615\n",
      "['Cyan', 'Large', 'Rounded'] \t 0.37074675565071685\n",
      "['Cyan', 'Large', 'Twisted'] \t 0.602769157145401\n",
      "['Cyan', 'Large', 'Pointed'] \t 0.3014559788620652\n"
     ]
    }
   ],
   "source": [
    "false_evidence_weights = {}\n",
    "for color in distinct_values['color']:\n",
    "    for scale in distinct_values['scale']:\n",
    "        for shape in distinct_values['shape']:\n",
    "            sample = [color,scale,shape]\n",
    "            false_evidence_weights['{}-{}-{}'.format(color,scale,shape)]=nbc.calculate_evidence(distinct_values_temp,smoothed_marginals_temp,summary_temp,sample)[0]\n",
    "            print(sample,'\\t',nbc.calculate_evidence(distinct_values_temp,smoothed_marginals_temp,summary_temp,sample)[0])"
   ]
  },
  {
   "cell_type": "code",
   "execution_count": 71,
   "metadata": {},
   "outputs": [
    {
     "data": {
      "text/plain": [
       "(0, 1)"
      ]
     },
     "execution_count": 71,
     "metadata": {},
     "output_type": "execute_result"
    },
    {
     "data": {
      "image/png": "[encoded data removed]",
      "text/plain": [
       "<Figure size 432x288 with 1 Axes>"
      ]
     },
     "metadata": {
      "needs_background": "light"
     },
     "output_type": "display_data"
    }
   ],
   "source": [
    "%matplotlib inline\n",
    "real_auth    = [authenticity_probs[k] for k in sorted(authenticity_probs.keys())]\n",
    "guessed_auth = [false_evidence_weights[k] for k in sorted(false_evidence_weights)]\n",
    "plt.plot(real_auth,guessed_auth,'bo')\n",
    "plt.xlim([0,1])\n",
    "plt.ylim([0,1])"
   ]
  },
  {
   "cell_type": "code",
   "execution_count": 72,
   "metadata": {},
   "outputs": [
    {
     "name": "stdout",
     "output_type": "stream",
     "text": [
      "Aqua-Large-Pointed 0.33 0.520193651230946\n",
      "Aqua-Large-Rounded 0.71 0.5968069481372459\n",
      "Aqua-Large-Twisted 0.75 0.7921953379142105\n",
      "Aqua-Small-Pointed 0.49 0.4337816212258303\n",
      "Aqua-Small-Rounded 0.35 0.511228371804439\n",
      "Aqua-Small-Twisted 0.44 0.7292759821104914\n",
      "Blue-Large-Pointed 0.34 0.29519113694743765\n",
      "Blue-Large-Rounded 0.14 0.3637918467163922\n",
      "Blue-Large-Twisted 0.77 0.5955813392320256\n",
      "Blue-Small-Pointed 0.79 0.2283659983047254\n",
      "Blue-Small-Rounded 0.91 0.287777836663437\n",
      "Blue-Small-Twisted 0.2 0.5099562266330332\n",
      "Cyan-Large-Pointed 0.08 0.3014559788620652\n",
      "Cyan-Large-Rounded 0.58 0.37074675565071685\n",
      "Cyan-Large-Twisted 0.06 0.602769157145401\n",
      "Cyan-Small-Pointed 0.18 0.2336828313159615\n",
      "Cyan-Small-Rounded 0.92 0.2939509639351995\n",
      "Cyan-Small-Twisted 0.58 0.5174328190250163\n",
      "Dune-Large-Pointed 0.96 0.43641404581933946\n",
      "Dune-Large-Rounded 0.42 0.5139042197433545\n",
      "Dune-Large-Twisted 0.26 0.7313853206335408\n",
      "Dune-Small-Pointed 0.86 0.3536609360552197\n",
      "Dune-Small-Rounded 0.53 0.4276058553696111\n",
      "Dune-Small-Twisted 0.24 0.6580025067944931\n"
     ]
    }
   ],
   "source": [
    "for k in sorted(authenticity_probs):\n",
    "    print(k,authenticity_probs[k],false_evidence_weights[k])"
   ]
  },
  {
   "cell_type": "code",
   "execution_count": null,
   "metadata": {},
   "outputs": [],
   "source": []
  }
 ],
 "metadata": {
  "kernelspec": {
   "display_name": "Python 3",
   "language": "python",
   "name": "python3"
  },
  "language_info": {
   "codemirror_mode": {
    "name": "ipython",
    "version": 3
   },
   "file_extension": ".py",
   "mimetype": "text/x-python",
   "name": "python",
   "nbconvert_exporter": "python",
   "pygments_lexer": "ipython3",
   "version": "3.7.6"
  }
 },
 "nbformat": 4,
 "nbformat_minor": 4
}
